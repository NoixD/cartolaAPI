{
 "cells": [
  {
   "cell_type": "markdown",
   "metadata": {},
   "source": [
    "## Libs"
   ]
  },
  {
   "cell_type": "code",
   "execution_count": 25,
   "metadata": {},
   "outputs": [],
   "source": [
    "import pandas as pd\n",
    "import numpy as np\n",
    "import matplotlib.pyplot as plt\n"
   ]
  },
  {
   "cell_type": "code",
   "execution_count": 26,
   "metadata": {},
   "outputs": [],
   "source": [
    "df = pd.read_csv('../datasets/calculated_features_19356_218115_284326303661025295376814747572002634939.csv')"
   ]
  },
  {
   "cell_type": "code",
   "execution_count": 46,
   "metadata": {},
   "outputs": [
    {
     "name": "stdout",
     "output_type": "stream",
     "text": [
      "(35905, 110)\n",
      "['delta_price', 'next_score', 'average_points_last_1_rounds', 'average_price_last_1_rounds', 'team_points_last_1_rounds', 'team_goals_scored_last_1_rounds', 'team_goals_taken_last_1_rounds', 'enemy_goals_scored_last_1_rounds', 'enemy_goals_taken_last_1_rounds', 'enemy_points_last_1_rounds', 'home_team', 'team_goals_taken_last_1_rounds.1', 'average_plays_last_1_rounds_fc_play', 'average_plays_last_1_rounds_gc_play', 'average_plays_last_1_rounds_ca_play', 'average_plays_last_1_rounds_cv_play', 'average_plays_last_1_rounds_sg_play', 'average_plays_last_1_rounds_dd_play', 'average_plays_last_1_rounds_dp_play', 'average_plays_last_1_rounds_gs_play', 'average_plays_last_1_rounds_fs_play', 'average_plays_last_1_rounds_pe_play', 'average_plays_last_1_rounds_a_play', 'average_plays_last_1_rounds_ft_play', 'average_plays_last_1_rounds_fd_play', 'average_plays_last_1_rounds_ff_play', 'average_plays_last_1_rounds_g_play', 'average_plays_last_1_rounds_i_play', 'average_plays_last_1_rounds_pp_play', 'average_points_last_5_rounds', 'average_price_last_5_rounds', 'team_points_last_5_rounds', 'team_goals_scored_last_5_rounds', 'team_goals_taken_last_5_rounds', 'enemy_goals_scored_last_5_rounds', 'enemy_goals_taken_last_5_rounds', 'enemy_points_last_5_rounds', 'home_team.1', 'team_goals_taken_last_5_rounds.1', 'average_plays_last_5_rounds_fc_play', 'average_plays_last_5_rounds_gc_play', 'average_plays_last_5_rounds_ca_play', 'average_plays_last_5_rounds_cv_play', 'average_plays_last_5_rounds_sg_play', 'average_plays_last_5_rounds_dd_play', 'average_plays_last_5_rounds_dp_play', 'average_plays_last_5_rounds_gs_play', 'average_plays_last_5_rounds_fs_play', 'average_plays_last_5_rounds_pe_play', 'average_plays_last_5_rounds_a_play', 'average_plays_last_5_rounds_ft_play', 'average_plays_last_5_rounds_fd_play', 'average_plays_last_5_rounds_ff_play', 'average_plays_last_5_rounds_g_play', 'average_plays_last_5_rounds_i_play', 'average_plays_last_5_rounds_pp_play', 'average_points_last_10_rounds', 'average_price_last_10_rounds', 'team_points_last_10_rounds', 'team_goals_scored_last_10_rounds', 'team_goals_taken_last_10_rounds', 'enemy_goals_scored_last_10_rounds', 'enemy_goals_taken_last_10_rounds', 'enemy_points_last_10_rounds', 'home_team.2', 'team_goals_taken_last_10_rounds.1', 'average_plays_last_10_rounds_fc_play', 'average_plays_last_10_rounds_gc_play', 'average_plays_last_10_rounds_ca_play', 'average_plays_last_10_rounds_cv_play', 'average_plays_last_10_rounds_sg_play', 'average_plays_last_10_rounds_dd_play', 'average_plays_last_10_rounds_dp_play', 'average_plays_last_10_rounds_gs_play', 'average_plays_last_10_rounds_fs_play', 'average_plays_last_10_rounds_pe_play', 'average_plays_last_10_rounds_a_play', 'average_plays_last_10_rounds_ft_play', 'average_plays_last_10_rounds_fd_play', 'average_plays_last_10_rounds_ff_play', 'average_plays_last_10_rounds_g_play', 'average_plays_last_10_rounds_i_play', 'average_plays_last_10_rounds_pp_play', 'average_points_last_20_rounds', 'average_price_last_20_rounds', 'team_points_last_20_rounds', 'team_goals_scored_last_20_rounds', 'team_goals_taken_last_20_rounds', 'enemy_goals_scored_last_20_rounds', 'enemy_goals_taken_last_20_rounds', 'enemy_points_last_20_rounds', 'home_team.3', 'team_goals_taken_last_20_rounds.1', 'average_plays_last_20_rounds_fc_play', 'average_plays_last_20_rounds_gc_play', 'average_plays_last_20_rounds_ca_play', 'average_plays_last_20_rounds_cv_play', 'average_plays_last_20_rounds_sg_play', 'average_plays_last_20_rounds_dd_play', 'average_plays_last_20_rounds_dp_play', 'average_plays_last_20_rounds_gs_play', 'average_plays_last_20_rounds_fs_play', 'average_plays_last_20_rounds_pe_play', 'average_plays_last_20_rounds_a_play', 'average_plays_last_20_rounds_ft_play', 'average_plays_last_20_rounds_fd_play', 'average_plays_last_20_rounds_ff_play', 'average_plays_last_20_rounds_g_play', 'average_plays_last_20_rounds_i_play', 'average_plays_last_20_rounds_pp_play']\n"
     ]
    }
   ],
   "source": [
    "print(df.shape)\n",
    "print(list(df.columns))"
   ]
  },
  {
   "cell_type": "code",
   "execution_count": 30,
   "metadata": {},
   "outputs": [],
   "source": [
    "df = df.loc[df.next_score != 0.0] ## Dropping players that didnt play"
   ]
  },
  {
   "cell_type": "code",
   "execution_count": 32,
   "metadata": {},
   "outputs": [
    {
     "name": "stdout",
     "output_type": "stream",
     "text": [
      "Avg for position Goleiro is 3.48823529412\n",
      "Avg for position Lateral is 3.31997038682\n",
      "Avg for position Zagueiro is 2.85601289833\n",
      "Avg for position Meia is 2.3977508792\n",
      "Avg for position Atacante is 2.79709746028\n",
      "Avg for position Técnico is 3.41126859504\n"
     ]
    }
   ],
   "source": [
    "position_list = ['Goleiro', 'Lateral', 'Zagueiro', 'Meia', 'Atacante', 'Técnico']\n",
    "sizes = list()\n",
    "for value in sorted(df.position_id.unique()):\n",
    "    sizes.append(df.loc[df.position_id == value].next_score.mean())\n",
    "    print('Avg for position %s is %s' %(position_list[value - 1], df.loc[df.position_id == value].next_score.mean()))"
   ]
  },
  {
   "cell_type": "code",
   "execution_count": 33,
   "metadata": {},
   "outputs": [
    {
     "data": {
      "image/png": "[encoded data removed]",
      "text/plain": [
       "<matplotlib.figure.Figure at 0x7efcd1702ac8>"
      ]
     },
     "metadata": {},
     "output_type": "display_data"
    }
   ],
   "source": [
    "fig1, ax1 = plt.subplots()\n",
    "ax1.pie(sizes, labels=position_list, autopct='%1.1f%%',\n",
    "        shadow=True, startangle=90)\n",
    "ax1.axis('equal')  # Equal aspect ratio ensures that pie is drawn as a circle.\n",
    "\n",
    "plt.show()"
   ]
  },
  {
   "cell_type": "code",
   "execution_count": 34,
   "metadata": {},
   "outputs": [
    {
     "name": "stdout",
     "output_type": "stream",
     "text": [
      "(35905, 115)\n"
     ]
    }
   ],
   "source": [
    "df = df.loc[df.position_id != 6] ## Dropping coaches and goalkeepers\n",
    "df = df.loc[df.position_id != 1]\n",
    "print(df.shape)"
   ]
  },
  {
   "cell_type": "code",
   "execution_count": 43,
   "metadata": {},
   "outputs": [],
   "source": [
    "auxiliary = ['scout_id', 'match_week', 'player_id', 'team_id', 'position_id']\n",
    "df.drop(auxiliary, axis=1, inplace = True)\n"
   ]
  },
  {
   "cell_type": "code",
   "execution_count": 42,
   "metadata": {},
   "outputs": [
    {
     "name": "stdout",
     "output_type": "stream",
     "text": [
      "1         9.334\n",
      "9         7.580\n",
      "14        0.954\n",
      "15       13.162\n",
      "17        2.024\n",
      "18       18.920\n",
      "24       10.512\n",
      "28        1.076\n",
      "33        1.986\n",
      "34       12.700\n",
      "35       12.968\n",
      "36        2.156\n",
      "39        2.356\n",
      "41       10.348\n",
      "50        1.078\n",
      "52        3.216\n",
      "53       13.272\n",
      "54       12.520\n",
      "55        2.222\n",
      "56       18.862\n",
      "60        9.978\n",
      "66        1.338\n",
      "70        1.104\n",
      "71        3.538\n",
      "72       13.690\n",
      "73       12.876\n",
      "74        2.350\n",
      "75        8.706\n",
      "76          NaN\n",
      "79        9.914\n",
      "          ...  \n",
      "89879     5.640\n",
      "89881     3.248\n",
      "89884    22.808\n",
      "89891    11.982\n",
      "89895     4.840\n",
      "89896     8.394\n",
      "89910     4.906\n",
      "89915     9.906\n",
      "89918     2.864\n",
      "89926     6.400\n",
      "89928     7.444\n",
      "89929     1.044\n",
      "89931     4.096\n",
      "89937     7.464\n",
      "89951    14.664\n",
      "89959     3.162\n",
      "89960     8.758\n",
      "89962     4.242\n",
      "89967     8.210\n",
      "89974     9.594\n",
      "89981    14.664\n",
      "89984     4.568\n",
      "89986     7.592\n",
      "89987    11.086\n",
      "89988     4.358\n",
      "89991     9.370\n",
      "89993     1.000\n",
      "89995     5.622\n",
      "89996     8.928\n",
      "89997     2.152\n",
      "Name: average_price_last_5_rounds, Length: 35905, dtype: float64\n"
     ]
    }
   ],
   "source": [
    "print(df.average_price_last_5_rounds)"
   ]
  },
  {
   "cell_type": "code",
   "execution_count": 7,
   "metadata": {},
   "outputs": [
    {
     "name": "stdout",
     "output_type": "stream",
     "text": [
      "(90002,)\n"
     ]
    }
   ],
   "source": [
    "y = df.next_score\n",
    "print(y.shape)\n",
    "x = df.drop(['next_score'], axis=1)"
   ]
  },
  {
   "cell_type": "code",
   "execution_count": 48,
   "metadata": {},
   "outputs": [
    {
     "data": {
      "image/png": "[encoded data removed]",
      "text/plain": [
       "<matplotlib.figure.Figure at 0x7efcd1691a20>"
      ]
     },
     "metadata": {},
     "output_type": "display_data"
    }
   ],
   "source": [
    "plt.plot(x.enemy_goals_taken_last_20_rounds, y, 'ro')\n",
    "plt.show()"
   ]
  },
  {
   "cell_type": "code",
   "execution_count": 52,
   "metadata": {},
   "outputs": [
    {
     "data": {
      "text/plain": [
       "(array([ 0.45689372,  0.44888585,  0.50822197,  0.61377021,  0.77815407,\n",
       "         1.00559995,  0.56828103,  0.25591832,  0.0993755 ,  0.02680414]),\n",
       " array([ 0.  ,  0.21,  0.42,  0.63,  0.84,  1.05,  1.26,  1.47,  1.68,\n",
       "         1.89,  2.1 ]),\n",
       " <a list of 10 Patch objects>)"
      ]
     },
     "execution_count": 52,
     "metadata": {},
     "output_type": "execute_result"
    },
    {
     "data": {
      "image/png": "[encoded data removed]",
      "text/plain": [
       "<matplotlib.figure.Figure at 0x7efcd0418550>"
      ]
     },
     "metadata": {},
     "output_type": "display_data"
    }
   ],
   "source": [
    "plt.hist(x.enemy_goals_taken_last_20_rounds.dropna(),  normed=1, facecolor='green', alpha=0.75)"
   ]
  }
 ],
 "metadata": {
  "kernelspec": {
   "display_name": "Python 3",
   "language": "python",
   "name": "python3"
  },
  "language_info": {
   "codemirror_mode": {
    "name": "ipython",
    "version": 3
   },
   "file_extension": ".py",
   "mimetype": "text/x-python",
   "name": "python",
   "nbconvert_exporter": "python",
   "pygments_lexer": "ipython3",
   "version": "3.5.2"
  }
 },
 "nbformat": 4,
 "nbformat_minor": 2
}
