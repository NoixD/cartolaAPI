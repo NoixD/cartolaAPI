{
 "cells": [
  {
   "cell_type": "code",
   "execution_count": null,
   "metadata": {},
   "outputs": [],
   "source": [
    "import pandas as pd\n",
    "import numpy as np\n",
    "import matplotlib.pyplot as plt\n",
    "import seaborn as sns\n",
    "from toolz.curried import *\n",
    "from pandas.testing import assert_frame_equal"
   ]
  },
  {
   "cell_type": "code",
   "execution_count": null,
   "metadata": {},
   "outputs": [],
   "source": [
    "df = pd.read_csv('../db/cartola_aggregated.csv')"
   ]
  },
  {
   "cell_type": "code",
   "execution_count": null,
   "metadata": {},
   "outputs": [],
   "source": [
    "df.columns"
   ]
  },
  {
   "cell_type": "code",
   "execution_count": null,
   "metadata": {},
   "outputs": [],
   "source": [
    "df.sort_values(['AtletaID', 'ano', 'Rodada'], inplace=True)"
   ]
  },
  {
   "cell_type": "code",
   "execution_count": null,
   "metadata": {},
   "outputs": [],
   "source": [
    "df['is_next_same'] = df['AtletaID'] == df['AtletaID'].shift(1)"
   ]
  },
  {
   "cell_type": "code",
   "execution_count": null,
   "metadata": {},
   "outputs": [],
   "source": [
    "df['Pontos_last1'] = df['Pontos'].shift(1)\n",
    "df.loc[~(df['is_next_same']), 'Pontos_last1'] = 0 "
   ]
  },
  {
   "cell_type": "code",
   "execution_count": null,
   "metadata": {},
   "outputs": [],
   "source": [
    "df.rename(columns={\"Pontos\": \"target\"}, inplace=True)"
   ]
  },
  {
   "cell_type": "code",
   "execution_count": null,
   "metadata": {},
   "outputs": [],
   "source": [
    "df[['AtletaID', 'ano', 'Rodada','target', 'Pontos_last1', 'ClubeID']].head()"
   ]
  },
  {
   "cell_type": "code",
   "execution_count": null,
   "metadata": {},
   "outputs": [],
   "source": [
    "columns_to_average = ['FS', 'PE', 'A','FT', 'FD', 'FF', 'G', 'I', 'PP', 'RB', 'FC', \n",
    " 'GC', 'CA', 'CV', 'SG','DD', 'DP', 'GS', 'Pontos_last1', 'Preco']"
   ]
  },
  {
   "cell_type": "code",
   "execution_count": null,
   "metadata": {},
   "outputs": [],
   "source": [
    "df_team = df.groupby(['ClubeID','ano', 'Rodada'], as_index=False)[['FS', 'PE', 'A','FT', 'FD', 'FF', 'G', 'I', 'PP', 'RB', 'FC', \n",
    " 'GC', 'CA', 'CV', 'SG','DD', 'DP', 'GS', 'Pontos_last1', 'Preco']].mean()"
   ]
  },
  {
   "cell_type": "code",
   "execution_count": null,
   "metadata": {},
   "outputs": [],
   "source": [
    "df_posicao = df.groupby(['Posicao', 'ano', 'Rodada'], as_index=False)[columns_to_average].mean()"
   ]
  },
  {
   "cell_type": "code",
   "execution_count": null,
   "metadata": {},
   "outputs": [],
   "source": [
    "df_team[['ClubeID', 'Rodada', 'Pontos_last1']].head(20)"
   ]
  },
  {
   "cell_type": "code",
   "execution_count": null,
   "metadata": {},
   "outputs": [],
   "source": [
    "df_posicao[['Posicao', 'Rodada', 'Pontos_last1']].head(20)"
   ]
  },
  {
   "cell_type": "code",
   "execution_count": null,
   "metadata": {},
   "outputs": [],
   "source": [
    "def getWindowOver(df, overCol, groupCols, aggCols, window_size, na_value, suffix):\n",
    "    return (df.set_index(overCol).groupby(groupCols, as_index=False)[aggCols]\n",
    "            .rolling(5, min_periods=0).mean().fillna(na_value)\n",
    "            .reset_index(drop=True)\n",
    "            .rename(columns=merge(map(lambda name: {name: name + '_avg_pos_last_5'}, aggCols))))"
   ]
  },
  {
   "cell_type": "code",
   "execution_count": null,
   "metadata": {},
   "outputs": [],
   "source": [
    "df_avg_pos_l5 = (df_posicao.set_index('Rodada').groupby(['Posicao', 'ano'], as_index=False)[columns_to_average]\n",
    "                           .rolling(5, min_periods=0).mean().fillna(0)\n",
    "                           .reset_index(drop=True)\n",
    "                           .rename(columns=merge(map(lambda name: {name: name + '_avg_pos_last_5'}, columns_to_average))))"
   ]
  },
  {
   "cell_type": "code",
   "execution_count": null,
   "metadata": {},
   "outputs": [],
   "source": [
    "getWindowOver(df_posicao, 'Rodada', ['Posicao', 'ano'], columns_to_average,\n",
    "                                               5, 0, '_avg_pos').head()"
   ]
  },
  {
   "cell_type": "markdown",
   "metadata": {},
   "source": [
    "## Making team feature calculation"
   ]
  },
  {
   "cell_type": "code",
   "execution_count": null,
   "metadata": {},
   "outputs": [],
   "source": [
    "df_avg_team_l5 = (df_team.set_index('Rodada').groupby(['ClubeID', 'ano'], as_index=False)[columns_to_average]\n",
    "                           .rolling(5, min_periods=0).mean().fillna(0)\n",
    "                           .reset_index(drop=True)\n",
    "                           .rename(columns=merge(map(lambda name: {name: name + '_avg_team_last_5'}, columns_to_average))))"
   ]
  },
  {
   "cell_type": "code",
   "execution_count": null,
   "metadata": {},
   "outputs": [],
   "source": [
    "df_avg_team_l10 = (df_team.set_index('Rodada').groupby(['ClubeID', 'ano'], as_index=False)[columns_to_average]\n",
    "                           .rolling(10, min_periods=0).mean().fillna(0)\n",
    "                           .reset_index(drop=True)\n",
    "                           .rename(columns=merge(map(lambda name: {name: name + '_avg_team_last_10'}, columns_to_average))))"
   ]
  },
  {
   "cell_type": "code",
   "execution_count": null,
   "metadata": {},
   "outputs": [],
   "source": [
    "df_avg_team_l20 = (df_team.set_index('Rodada').groupby(['ClubeID', 'ano'], as_index=False)[columns_to_average]\n",
    "                           .rolling(20, min_periods=0).mean().fillna(0)\n",
    "                           .reset_index(drop=True)\n",
    "                           .rename(columns=merge(map(lambda name: {name: name + '_avg_team_last_20'}, columns_to_average))))"
   ]
  },
  {
   "cell_type": "code",
   "execution_count": null,
   "metadata": {},
   "outputs": [],
   "source": [
    "df_std_team_l5 = (df_team.set_index('Rodada').groupby(['ClubeID', 'ano'], as_index=False)[columns_to_average]\n",
    "                           .rolling(5, min_periods=0).std().fillna(0)\n",
    "                           .reset_index(drop=True)\n",
    "                           .rename(columns=merge(map(lambda name: {name: name + '_avg_team_last_5'}, columns_to_average))))"
   ]
  },
  {
   "cell_type": "code",
   "execution_count": null,
   "metadata": {},
   "outputs": [],
   "source": [
    "df_std_team_l10 = (df_team.set_index('Rodada').groupby(['ClubeID', 'ano'], as_index=False)[columns_to_average]\n",
    "                           .rolling(10, min_periods=0).std().fillna(0)\n",
    "                           .reset_index(drop=True)\n",
    "                           .rename(columns=merge(map(lambda name: {name: name + '_avg_team_last_10'}, columns_to_average))))"
   ]
  },
  {
   "cell_type": "code",
   "execution_count": null,
   "metadata": {},
   "outputs": [],
   "source": [
    "df_std_team_l20 = (df_team.set_index('Rodada').groupby(['ClubeID', 'ano'], as_index=False)[columns_to_average]\n",
    "                           .rolling(20, min_periods=0).std().fillna(0)\n",
    "                           .reset_index(drop=True)\n",
    "                           .rename(columns=merge(map(lambda name: {name: name + '_avg_team_last_20'}, columns_to_average))))"
   ]
  },
  {
   "cell_type": "code",
   "execution_count": null,
   "metadata": {},
   "outputs": [],
   "source": [
    "df_l5 = (df.set_index('Rodada').groupby(['AtletaID','ano'], as_index=False)[columns_to_average]\n",
    "                           .rolling(5, min_periods=0).mean().fillna(0)\n",
    "                           .reset_index(drop=True)\n",
    "                           .rename(columns=merge(map(lambda name: {name: name + 'avg_last_5'}, columns_to_average))))"
   ]
  },
  {
   "cell_type": "code",
   "execution_count": null,
   "metadata": {},
   "outputs": [],
   "source": [
    "df_l10 = (df.set_index('Rodada').groupby(['AtletaID','ano'], as_index=False)[columns_to_average]\n",
    "                           .rolling(10, min_periods=0).mean().fillna(0)\n",
    "                           .reset_index(drop=True)\n",
    "                           .rename(columns=merge(map(lambda name: {name: name + 'avg_last_10'}, columns_to_average))))"
   ]
  },
  {
   "cell_type": "code",
   "execution_count": null,
   "metadata": {},
   "outputs": [],
   "source": [
    "df_l20 = (df.set_index('Rodada').groupby(['AtletaID','ano'], as_index=False)[columns_to_average]\n",
    "                           .rolling(20, min_periods=0).mean().fillna(0)\n",
    "                           .reset_index(drop=True)\n",
    "                           .rename(columns=merge(map(lambda name: {name: name + 'avg_last_20'}, columns_to_average))))"
   ]
  },
  {
   "cell_type": "code",
   "execution_count": null,
   "metadata": {},
   "outputs": [],
   "source": [
    "df_std_l5 = (df.set_index('Rodada').groupby(['AtletaID','ano'], as_index=False)[columns_to_average]\n",
    "                           .rolling(5, min_periods=0).std().fillna(0)\n",
    "                           .reset_index(drop=True)\n",
    "                           .rename(columns=merge(map(lambda name: {name: name + 'std_last_5'}, columns_to_average))))"
   ]
  },
  {
   "cell_type": "code",
   "execution_count": null,
   "metadata": {},
   "outputs": [],
   "source": [
    "df_std_l10 = (df.set_index('Rodada').groupby(['AtletaID','ano'], as_index=False)[columns_to_average]\n",
    "                           .rolling(10, min_periods=0).std().fillna(0)\n",
    "                           .reset_index(drop=True)\n",
    "                           .rename(columns=merge(map(lambda name: {name: name + 'std_last_10'}, columns_to_average))))"
   ]
  },
  {
   "cell_type": "code",
   "execution_count": null,
   "metadata": {},
   "outputs": [],
   "source": [
    "df_std_l20 = (df.set_index('Rodada').groupby(['AtletaID','ano'], as_index=False)[columns_to_average]\n",
    "                           .rolling(20, min_periods=0).std().fillna(0)\n",
    "                           .reset_index(drop=True)\n",
    "                           .rename(columns=merge(map(lambda name: {name: name + 'std_last_20'}, columns_to_average))))"
   ]
  },
  {
   "cell_type": "code",
   "execution_count": null,
   "metadata": {},
   "outputs": [],
   "source": [
    "df_l5 = (df.set_index('Rodada').groupby(['AtletaID','ClubeID', 'ano'], as_index=False)[columns_to_average]\n",
    "                           .rolling(5, min_periods=0).mean().fillna(0)\n",
    "                           .reset_index(drop=True)\n",
    "                           .rename(columns=merge(map(lambda name: {name: name + 'avg_last_5'}, columns_to_average))))"
   ]
  },
  {
   "cell_type": "code",
   "execution_count": null,
   "metadata": {},
   "outputs": [],
   "source": []
  },
  {
   "cell_type": "code",
   "execution_count": null,
   "metadata": {},
   "outputs": [],
   "source": [
    "df_avg.sort_values(['AtletaID','ano','Rodada'])[['AtletaID','ano','Rodada'] + ['Pontos', 'avg_points_l5']].head()"
   ]
  },
  {
   "cell_type": "code",
   "execution_count": null,
   "metadata": {},
   "outputs": [],
   "source": [
    "df.set_index('Rodada').groupby(['AtletaID','ano'], as_index=False)[['Pontos']].rolling(5, min_periods=0).mean().reset_index(0)"
   ]
  },
  {
   "cell_type": "code",
   "execution_count": null,
   "metadata": {},
   "outputs": [],
   "source": [
    "df_2014 = df.loc[df.ano == 2014]"
   ]
  },
  {
   "cell_type": "code",
   "execution_count": null,
   "metadata": {},
   "outputs": [],
   "source": [
    "df_2014.columns"
   ]
  },
  {
   "cell_type": "code",
   "execution_count": null,
   "metadata": {},
   "outputs": [],
   "source": [
    "df_2014.sort_values(by=['AtletaID', 'Rodada'], inplace=True, ascending=False)"
   ]
  },
  {
   "cell_type": "code",
   "execution_count": null,
   "metadata": {},
   "outputs": [],
   "source": [
    "df_2014"
   ]
  },
  {
   "cell_type": "code",
   "execution_count": null,
   "metadata": {},
   "outputs": [],
   "source": [
    "df_2014['avg_points_l5'] = df_2014.orderby('AtletaID', 'Rodada').Pontos.rolling(5, on='Rodada').mean()"
   ]
  }
 ],
 "metadata": {
  "kernelspec": {
   "display_name": "Python 3",
   "language": "python",
   "name": "python3"
  },
  "language_info": {
   "codemirror_mode": {
    "name": "ipython",
    "version": 3
   },
   "file_extension": ".py",
   "mimetype": "text/x-python",
   "name": "python",
   "nbconvert_exporter": "python",
   "pygments_lexer": "ipython3",
   "version": "3.6.4"
  }
 },
 "nbformat": 4,
 "nbformat_minor": 2
}
