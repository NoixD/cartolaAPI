{
 "cells": [
  {
   "cell_type": "code",
   "execution_count": 1,
   "metadata": {},
   "outputs": [],
   "source": [
    "import pandas as pd\n",
    "import numpy as np\n",
    "import matplotlib.pyplot as plt\n",
    "import toolz as fp"
   ]
  },
  {
   "cell_type": "code",
   "execution_count": 16,
   "metadata": {},
   "outputs": [],
   "source": [
    "## Constants\n",
    "abreviacao = ['RB', 'FC', 'GC', 'CA', 'CV', 'SG', 'DD', 'DP', 'GS',\n",
    "              'FS', 'PE', 'A', 'FT', 'FD', 'FF', 'G', 'I', 'PP']\n",
    "descricao = ['Robadas de Bola', 'Faltas Cometidas', 'Gol Contra', 'Cartao Amarelo',\n",
    "             'Cartao Vermelho', 'Jogo sem sofrer gol', 'Defesa Dificil', 'Defesa de Penalti',\n",
    "             'Gol Sofrido', 'Falta Sofrida', 'Passe Errado', 'Assistencia',\n",
    "             'Finalizacao na Trave', 'Finalizacao defendida', 'Finalizao pra Fora', 'Gol',\n",
    "             'Impedimento', 'Penalti Perdido']\n",
    "pontuacao = [1.7, -0.5, -6.0, -2.0, -5.0, 5.0, 3.00, 7.00, -2.0,\n",
    "             0.5, -0.3, 5.0, 3.5, 1.0, 0.7, 8.0, -0.5, -3.5]\n",
    "\n",
    "points_dict = {\n",
    "    \"RB\": 1.7,\n",
    "    \"FC\": -0.5,\n",
    "    \"GC\": -6.0,\n",
    "    \"CA\": -2.0,\n",
    "    \"CV\": -5.0,\n",
    "    \"SG\": 5.0,\n",
    "    \"DD\": 3.0,\n",
    "    \"DP\": 7.0,\n",
    "    \"GS\": -2.0,\n",
    "    \"FS\": 0.5,\n",
    "    \"PE\": -0.3,\n",
    "    \"A\": 5.0,\n",
    "    \"FT\": 3.5,\n",
    "    \"FD\": 1.0,\n",
    "    \"FF\": 0.7,\n",
    "    \"G\": 8.0,\n",
    "    \"I\": -0.5,\n",
    "    \"PP\": -3.5,\n",
    "}\n",
    "\n",
    "team_dict = {\n",
    "'265':'BAH',\n",
    "'288':'CRI',\n",
    "'267':'VAS',\n",
    "'290':'GOI',\n",
    "'314':'AVA',\n",
    "'317':'JEC',\n",
    "'262':'FLA',\n",
    "'263':'BOT',\n",
    "'264':'COR',\n",
    "'266':'FLU',\n",
    "'275':'PAL',\n",
    "'276':'SAO',\n",
    "'277':'SAN',\n",
    "'282':'CAM',\n",
    "'283':'CRU',\n",
    "'284':'GRE',\n",
    "'285':'INT',\n",
    "'287':'VIT',\n",
    "'292':'SPT',\n",
    "'293':'CAP',\n",
    "'294':'CFC',\n",
    "'303':'PON',\n",
    "'315':'CHA',\n",
    "'316':'FIG',\n",
    "'327':'AME',\n",
    "'344':'SCZ',\n",
    "'373':'ATL-GO'\n",
    "}\n",
    "\n",
    "posicoes = [\"gol\", \"lat\", \"zag\",  \"mei\", \"ata\", \"tec\"]\n",
    "\n",
    "status = {\n",
    "\t\t\"2\": \"Dúvida\",\n",
    "\t\t\"3\": \"Suspenso\",\n",
    "\t\t\"5\": \"Contundido\",\n",
    "\t\t\"6\": \"Nulo\",\n",
    "\t\t\"7\": \"Provável\"\n",
    "\t}\n"
   ]
  },
  {
   "cell_type": "code",
   "execution_count": 92,
   "metadata": {},
   "outputs": [],
   "source": [
    "df = pd.read_csv('../db/cartola_aggregated_with_results.csv').rename(columns={'Unnamed: 0': 'ScoutID'})"
   ]
  },
  {
   "cell_type": "code",
   "execution_count": 93,
   "metadata": {},
   "outputs": [
    {
     "data": {
      "text/html": [
       "<div>\n",
       "<style scoped>\n",
       "    .dataframe tbody tr th:only-of-type {\n",
       "        vertical-align: middle;\n",
       "    }\n",
       "\n",
       "    .dataframe tbody tr th {\n",
       "        vertical-align: top;\n",
       "    }\n",
       "\n",
       "    .dataframe thead th {\n",
       "        text-align: right;\n",
       "    }\n",
       "</style>\n",
       "<table border=\"1\" class=\"dataframe\">\n",
       "  <thead>\n",
       "    <tr style=\"text-align: right;\">\n",
       "      <th></th>\n",
       "      <th>ScoutID</th>\n",
       "      <th>AtletaID</th>\n",
       "      <th>Rodada</th>\n",
       "      <th>ClubeID</th>\n",
       "      <th>Participou</th>\n",
       "      <th>Posicao</th>\n",
       "      <th>Jogos</th>\n",
       "      <th>Pontos</th>\n",
       "      <th>PontosMedia</th>\n",
       "      <th>Preco</th>\n",
       "      <th>...</th>\n",
       "      <th>away_score</th>\n",
       "      <th>pred.home.score</th>\n",
       "      <th>pred.away.score</th>\n",
       "      <th>home.attack</th>\n",
       "      <th>home.defend</th>\n",
       "      <th>variable</th>\n",
       "      <th>ClubeCasa</th>\n",
       "      <th>ClubeVisitante</th>\n",
       "      <th>Home</th>\n",
       "      <th>result</th>\n",
       "    </tr>\n",
       "  </thead>\n",
       "  <tbody>\n",
       "    <tr>\n",
       "      <th>0</th>\n",
       "      <td>0</td>\n",
       "      <td>36443</td>\n",
       "      <td>1</td>\n",
       "      <td>285.0</td>\n",
       "      <td>True</td>\n",
       "      <td>gol</td>\n",
       "      <td>1.0</td>\n",
       "      <td>5.0</td>\n",
       "      <td>5.0</td>\n",
       "      <td>10.60</td>\n",
       "      <td>...</td>\n",
       "      <td>0.0</td>\n",
       "      <td>0.986759</td>\n",
       "      <td>1.03473</td>\n",
       "      <td>0.076288</td>\n",
       "      <td>-0.438249</td>\n",
       "      <td>home.team</td>\n",
       "      <td>285</td>\n",
       "      <td>287</td>\n",
       "      <td>True</td>\n",
       "      <td>1</td>\n",
       "    </tr>\n",
       "    <tr>\n",
       "      <th>1</th>\n",
       "      <td>1</td>\n",
       "      <td>36540</td>\n",
       "      <td>1</td>\n",
       "      <td>285.0</td>\n",
       "      <td>True</td>\n",
       "      <td>zag</td>\n",
       "      <td>1.0</td>\n",
       "      <td>2.0</td>\n",
       "      <td>2.0</td>\n",
       "      <td>12.88</td>\n",
       "      <td>...</td>\n",
       "      <td>0.0</td>\n",
       "      <td>0.986759</td>\n",
       "      <td>1.03473</td>\n",
       "      <td>0.076288</td>\n",
       "      <td>-0.438249</td>\n",
       "      <td>home.team</td>\n",
       "      <td>285</td>\n",
       "      <td>287</td>\n",
       "      <td>True</td>\n",
       "      <td>1</td>\n",
       "    </tr>\n",
       "    <tr>\n",
       "      <th>2</th>\n",
       "      <td>2</td>\n",
       "      <td>37655</td>\n",
       "      <td>1</td>\n",
       "      <td>285.0</td>\n",
       "      <td>True</td>\n",
       "      <td>ata</td>\n",
       "      <td>1.0</td>\n",
       "      <td>0.5</td>\n",
       "      <td>0.5</td>\n",
       "      <td>6.44</td>\n",
       "      <td>...</td>\n",
       "      <td>0.0</td>\n",
       "      <td>0.986759</td>\n",
       "      <td>1.03473</td>\n",
       "      <td>0.076288</td>\n",
       "      <td>-0.438249</td>\n",
       "      <td>home.team</td>\n",
       "      <td>285</td>\n",
       "      <td>287</td>\n",
       "      <td>True</td>\n",
       "      <td>1</td>\n",
       "    </tr>\n",
       "    <tr>\n",
       "      <th>3</th>\n",
       "      <td>3</td>\n",
       "      <td>38074</td>\n",
       "      <td>1</td>\n",
       "      <td>285.0</td>\n",
       "      <td>True</td>\n",
       "      <td>mei</td>\n",
       "      <td>1.0</td>\n",
       "      <td>1.7</td>\n",
       "      <td>1.7</td>\n",
       "      <td>3.56</td>\n",
       "      <td>...</td>\n",
       "      <td>0.0</td>\n",
       "      <td>0.986759</td>\n",
       "      <td>1.03473</td>\n",
       "      <td>0.076288</td>\n",
       "      <td>-0.438249</td>\n",
       "      <td>home.team</td>\n",
       "      <td>285</td>\n",
       "      <td>287</td>\n",
       "      <td>True</td>\n",
       "      <td>1</td>\n",
       "    </tr>\n",
       "    <tr>\n",
       "      <th>4</th>\n",
       "      <td>4</td>\n",
       "      <td>38108</td>\n",
       "      <td>1</td>\n",
       "      <td>285.0</td>\n",
       "      <td>True</td>\n",
       "      <td>ata</td>\n",
       "      <td>1.0</td>\n",
       "      <td>0.2</td>\n",
       "      <td>0.2</td>\n",
       "      <td>10.00</td>\n",
       "      <td>...</td>\n",
       "      <td>0.0</td>\n",
       "      <td>0.986759</td>\n",
       "      <td>1.03473</td>\n",
       "      <td>0.076288</td>\n",
       "      <td>-0.438249</td>\n",
       "      <td>home.team</td>\n",
       "      <td>285</td>\n",
       "      <td>287</td>\n",
       "      <td>True</td>\n",
       "      <td>1</td>\n",
       "    </tr>\n",
       "  </tbody>\n",
       "</table>\n",
       "<p>5 rows × 82 columns</p>\n",
       "</div>"
      ],
      "text/plain": [
       "   ScoutID  AtletaID  Rodada  ClubeID  Participou Posicao  Jogos  Pontos  \\\n",
       "0        0     36443       1    285.0        True     gol    1.0     5.0   \n",
       "1        1     36540       1    285.0        True     zag    1.0     2.0   \n",
       "2        2     37655       1    285.0        True     ata    1.0     0.5   \n",
       "3        3     38074       1    285.0        True     mei    1.0     1.7   \n",
       "4        4     38108       1    285.0        True     ata    1.0     0.2   \n",
       "\n",
       "   PontosMedia  Preco   ...    away_score  pred.home.score  pred.away.score  \\\n",
       "0          5.0  10.60   ...           0.0         0.986759          1.03473   \n",
       "1          2.0  12.88   ...           0.0         0.986759          1.03473   \n",
       "2          0.5   6.44   ...           0.0         0.986759          1.03473   \n",
       "3          1.7   3.56   ...           0.0         0.986759          1.03473   \n",
       "4          0.2  10.00   ...           0.0         0.986759          1.03473   \n",
       "\n",
       "   home.attack  home.defend   variable  ClubeCasa  ClubeVisitante  Home  \\\n",
       "0     0.076288    -0.438249  home.team        285             287  True   \n",
       "1     0.076288    -0.438249  home.team        285             287  True   \n",
       "2     0.076288    -0.438249  home.team        285             287  True   \n",
       "3     0.076288    -0.438249  home.team        285             287  True   \n",
       "4     0.076288    -0.438249  home.team        285             287  True   \n",
       "\n",
       "   result  \n",
       "0       1  \n",
       "1       1  \n",
       "2       1  \n",
       "3       1  \n",
       "4       1  \n",
       "\n",
       "[5 rows x 82 columns]"
      ]
     },
     "execution_count": 93,
     "metadata": {},
     "output_type": "execute_result"
    }
   ],
   "source": [
    "df.head()"
   ]
  },
  {
   "cell_type": "code",
   "execution_count": 8,
   "metadata": {},
   "outputs": [
    {
     "name": "stdout",
     "output_type": "stream",
     "text": [
      "['Unnamed: 0', 'AtletaID', 'Rodada', 'ClubeID', 'Participou', 'Posicao', 'Jogos', 'Pontos', 'PontosMedia', 'Preco', 'PrecoVariacao', 'FS', 'PE', 'A', 'FT', 'FD', 'FF', 'G', 'I', 'PP', 'RB', 'FC', 'GC', 'CA', 'CV', 'SG', 'DD', 'DP', 'GS', 'ano', 'Apelido', 'Status', 'avg.Points', 'avg.last05', 'avg.FS', 'avg.FS.l05', 'avg.PE', 'avg.PE.l05', 'avg.A', 'avg.A.l05', 'avg.FT', 'avg.FT.l05', 'avg.FD', 'avg.FD.l05', 'avg.FF', 'avg.FF.l05', 'avg.G', 'avg.G.l05', 'avg.I', 'avg.I.l05', 'avg.PP', 'avg.PP.l05', 'avg.RB', 'avg.RB.l05', 'avg.FC', 'avg.FC.l05', 'avg.GC', 'avg.GC.l05', 'avg.CA', 'avg.CV.l05', 'avg.SG', 'avg.SG.l05', 'avg.DD', 'avg.DD.l05', 'avg.DP', 'avg.DP.l05', 'avg.GS', 'avg.GS.l05', 'risk_points', 'mes', 'dia', 'home_score', 'away_score', 'pred.home.score', 'pred.away.score', 'home.attack', 'home.defend', 'variable', 'ClubeCasa', 'ClubeVisitante', 'Home', 'result']\n"
     ]
    }
   ],
   "source": [
    "print(list(df.columns))"
   ]
  },
  {
   "cell_type": "code",
   "execution_count": 10,
   "metadata": {},
   "outputs": [
    {
     "data": {
      "text/plain": [
       "(39404, 82)"
      ]
     },
     "execution_count": 10,
     "metadata": {},
     "output_type": "execute_result"
    }
   ],
   "source": [
    "df.shape"
   ]
  },
  {
   "cell_type": "code",
   "execution_count": 11,
   "metadata": {},
   "outputs": [],
   "source": [
    "df.drop(['pred.home.score', 'pred.away.score', 'home.attack', 'home.defend', 'variable'],\n",
    "        axis=1, inplace=True)"
   ]
  },
  {
   "cell_type": "code",
   "execution_count": 13,
   "metadata": {},
   "outputs": [],
   "source": [
    "auxiliary = ['AtletaID', 'Rodada', 'ClubeID', 'Participou', 'Posicao', 'ano', 'mes', 'dia', 'Apelido', 'Status']"
   ]
  },
  {
   "cell_type": "code",
   "execution_count": 83,
   "metadata": {},
   "outputs": [],
   "source": [
    "plays = ['FS', 'PE', 'A', 'FT', 'FD', 'FF', 'G', 'I', 'PP', 'RB', 'FC', 'GC', 'CA', \n",
    "         'CV', 'SG', 'DD', 'DP', 'GS']"
   ]
  },
  {
   "cell_type": "code",
   "execution_count": 67,
   "metadata": {},
   "outputs": [],
   "source": [
    "df['game_points'] = df.apply(lambda x: 3 if ((x['result'] == 1 and x['Home']) or (x['result'] == -1 and not x['Home']))\n",
    "                        else 1 if x['result'] == 0 else 0, axis=1)"
   ]
  },
  {
   "cell_type": "code",
   "execution_count": 60,
   "metadata": {},
   "outputs": [
    {
     "data": {
      "text/plain": [
       "277"
      ]
     },
     "execution_count": 60,
     "metadata": {},
     "output_type": "execute_result"
    }
   ],
   "source": [
    "df.loc[100].ClubeVisitante"
   ]
  },
  {
   "cell_type": "markdown",
   "metadata": {},
   "source": [
    "## Get Info ScoutID"
   ]
  },
  {
   "cell_type": "code",
   "execution_count": 63,
   "metadata": {},
   "outputs": [],
   "source": [
    "def getAtletaID(df, scout_id):\n",
    "    return df.loc[scout_id].AtletaID\n",
    "\n",
    "def getClubeID(df, scout_id):\n",
    "    return df.loc[scout_id].ClubeID\n",
    "\n",
    "def getClubeVisitante(df, scout_id):\n",
    "    return df.loc[scout_id].ClubeVisitante\n",
    "\n",
    "def getClubeCasa(df, scout_id):\n",
    "    return df.loc[scout_id].ClubeCasa\n",
    "\n",
    "def getRodada(df, scout_id):\n",
    "    return df.loc[scout_id].Rodada\n",
    "\n",
    "def getPosicao(df, scout_id):\n",
    "    return df.loc[scout_id].Posicao\n",
    "\n",
    "def getAno(df, scout_id):\n",
    "    return df.loc[scout_id].ano\n",
    "\n",
    "def getHome(df, scout_id):\n",
    "    return df.loc[scout_id].Home\n",
    "\n",
    "def getResult(df, scout_id):\n",
    "    return df.loc[scout_id].result\n",
    "\n"
   ]
  },
  {
   "cell_type": "markdown",
   "metadata": {},
   "source": [
    "## Filters"
   ]
  },
  {
   "cell_type": "code",
   "execution_count": 80,
   "metadata": {},
   "outputs": [],
   "source": [
    "def filterDfLastRounds(df, rodada, ano, num_rounds):\n",
    "    return df.loc[(((df.ano == ano) & (df.Rodada < rodada) & (df.Rodada >= rodada - num_rounds)) \n",
    "                                                | ((df.ano == ano - 1) & (df.Rodada >= 38 + rodada - num_rounds)))]\n",
    "\n",
    "def filterDfClube(df, clubeID):\n",
    "    return df.loc[df.ClubeID == clubeID]\n",
    "\n",
    "def filterHome(df, home):\n",
    "    return df.loc[df.Home == home]\n",
    "\n",
    "def filterDfPosicao(df, pos):\n",
    "    return df.loc[df.Posicao == pos]\n",
    "\n",
    "def filterDfResult(df, res):\n",
    "    return df.loc[df.result == res]"
   ]
  },
  {
   "cell_type": "markdown",
   "metadata": {},
   "source": [
    "## Custom Aggregations"
   ]
  },
  {
   "cell_type": "markdown",
   "metadata": {},
   "source": [
    "## Aggregate"
   ]
  },
  {
   "cell_type": "code",
   "execution_count": 84,
   "metadata": {},
   "outputs": [],
   "source": [
    "\n",
    "def getColumnAverageLastRounds(df, scout_id, column_name, num_rounds):\n",
    "    atleta_id = getAtletaID(df, scout_id)\n",
    "    rodada = getRodada(df, scout_id)\n",
    "    ano = getAno(df, scout_id)\n",
    "    return filterDfLastRounds(df, rodada, ano, num_rounds)[column_name].mean()\n",
    "\n",
    "def getColumnStdDevLastRounds(df, scout_id, column_name, num_rounds):\n",
    "    atleta_id = getAtletaID(df, scout_id)\n",
    "    rodada = getRodada(df, scout_id)\n",
    "    ano = getAno(df, scout_id)\n",
    "    return filterDfLastRounds(df, rodada, ano, num_rounds)[column_name].std()\n",
    "\n",
    "def getColumnSumLastRounds(df, scout_id, column_name, num_rounds):\n",
    "    atleta_id = getAtletaID(df, scout_id)\n",
    "    rodada = getRodada(df, scout_id)\n",
    "    ano = getAno(df, scout_id)\n",
    "    return filterDfLastRounds(df, rodada, ano, num_rounds)[column_name].sum()\n",
    "\n",
    "def getColumnCountLastRounds(df, scout_id, column_name, num_rounds):\n",
    "    atleta_id = getAtletaID(df, scout_id)\n",
    "    rodada = getRodada(df, scout_id)\n",
    "    ano = getAno(df, scout_id)\n",
    "    return filterDfLastRounds(df, rodada, ano, num_rounds)[column_name].count()\n"
   ]
  },
  {
   "cell_type": "code",
   "execution_count": 42,
   "metadata": {},
   "outputs": [
    {
     "data": {
      "text/plain": [
       "0.7867957924694431"
      ]
     },
     "execution_count": 42,
     "metadata": {},
     "output_type": "execute_result"
    }
   ],
   "source": [
    "getColumnStdDevLastRounds(df, 100, 'FF', 10)"
   ]
  },
  {
   "cell_type": "code",
   "execution_count": 51,
   "metadata": {},
   "outputs": [
    {
     "data": {
      "text/plain": [
       "17    297\n",
       "11    297\n",
       "16    297\n",
       "14    297\n",
       "12    297\n",
       "13    296\n",
       "15    294\n",
       "10    293\n",
       "19    269\n",
       "18    268\n",
       "Name: Rodada, dtype: int64"
      ]
     },
     "execution_count": 51,
     "metadata": {},
     "output_type": "execute_result"
    }
   ],
   "source": [
    "filterDfLastRounds(df, 20, 2016, 10).Rodada.value_counts()"
   ]
  },
  {
   "cell_type": "markdown",
   "metadata": {},
   "source": [
    "## Team Goals"
   ]
  },
  {
   "cell_type": "code",
   "execution_count": 58,
   "metadata": {},
   "outputs": [],
   "source": [
    "def getTeamGolsScored(df, scout_id, num_rounds):\n",
    "    clube = getClubeID(df, scout_id)\n",
    "    df_home = df.loc[(df_filtered.ClubeID == clube) & (df_filtered.Home == True)]\n",
    "    df_away = df.loc[(df_filtered.ClubeID == clube) & (df_filtered.Home == False)]\n",
    "    df_team = df.loc[(df_filtered.ClubeID == clube)]\n",
    "    sum_goals_home = getColumnSumLastRounds(df_home, scout_id, \"home_score\", num_rounds)\n",
    "    sum_goals_away = getColumnSumLastRounds(df_away, scout_id, \"away_score\", num_rounds)\n",
    "    count_games = getColumnCountLastRounds(df_team, scout_id, \"home_score\", num_rounds)\n",
    "    return (sum_goals_home + sum_goals_away) / count_games\n",
    "\n",
    "def getTeamGolsTaken(df, scout_id, num_rounds):\n",
    "    clube = getClubeID(df, scout_id)\n",
    "    df_home = df.loc[(df_filtered.ClubeID == clube) & (df_filtered.Home == True)]\n",
    "    df_away = df.loc[(df_filtered.ClubeID == clube) & (df_filtered.Home == False)]\n",
    "    df_team = df.loc[(df_filtered.ClubeID == clube)]\n",
    "    sum_goals_home = getColumnSumLastRounds(df_home, scout_id, \"away_score\", num_rounds)\n",
    "    sum_goals_away = getColumnSumLastRounds(df_away, scout_id, \"home_score\", num_rounds)\n",
    "    count_games = getColumnCountLastRounds(df_team, scout_id, \"home_score\", num_rounds)\n",
    "    return (sum_goals_home + sum_goals_away) / count_games\n",
    "\n",
    "def getTeamGolsScoredHome(df, scout_id, num_rounds):\n",
    "    clube = getClubeID(df, scout_id)\n",
    "    df_filtered = df.loc[(df_filtered.ClubeID == clube) & (df_filtered.Home == True)]\n",
    "    return getColumnAverageLastRounds(df_filtered, scout_id, \"home_score\", num_rounds)\n",
    "\n",
    "def getTeamGolsScoredAway(df, scout_id, num_rounds):\n",
    "    clube = getClubeID(df, scout_id)\n",
    "    df_filtered = df.loc[(df_filtered.ClubeID == clube) & (df_filtered.Home == False)]\n",
    "    return getColumnAverageLastRounds(df_filtered, scout_id, \"away_score\", num_rounds)\n",
    "\n",
    "def getTeamGolsTakenHome(df, scout_id, num_rounds):\n",
    "    clube = getClubeID(df, scout_id)\n",
    "    df_filtered = df.loc[(df_filtered.ClubeID == clube) & (df_filtered.Home == True)]\n",
    "    return getColumnAverageLastRounds(df_filtered, scout_id, \"away_score\", num_rounds)\n",
    "\n",
    "def getTeamGolsTakenAway(df, scout_id, num_rounds):\n",
    "    clube = getClubeID(df, scout_id)\n",
    "    df_filtered = df.loc[(df_filtered.ClubeID == clube) & (df_filtered.Home == False)]\n",
    "    return getColumnAverageLastRounds(df_filtered, scout_id, \"home_score\", num_rounds)"
   ]
  },
  {
   "cell_type": "code",
   "execution_count": 89,
   "metadata": {},
   "outputs": [
    {
     "data": {
      "text/plain": [
       "0         True\n",
       "1         True\n",
       "2         True\n",
       "3         True\n",
       "4         True\n",
       "5         True\n",
       "6         True\n",
       "7         True\n",
       "8         True\n",
       "9         True\n",
       "10        True\n",
       "11        True\n",
       "12        True\n",
       "13        True\n",
       "14        True\n",
       "15        True\n",
       "16        True\n",
       "17        True\n",
       "18        True\n",
       "19        True\n",
       "20        True\n",
       "21        True\n",
       "22        True\n",
       "23        True\n",
       "24        True\n",
       "25        True\n",
       "26        True\n",
       "27        True\n",
       "28        True\n",
       "29        True\n",
       "         ...  \n",
       "39374    False\n",
       "39375    False\n",
       "39376    False\n",
       "39377    False\n",
       "39378    False\n",
       "39379    False\n",
       "39380    False\n",
       "39381    False\n",
       "39382    False\n",
       "39383    False\n",
       "39384    False\n",
       "39385    False\n",
       "39386    False\n",
       "39387    False\n",
       "39388    False\n",
       "39389    False\n",
       "39390    False\n",
       "39391    False\n",
       "39392    False\n",
       "39393    False\n",
       "39394    False\n",
       "39395    False\n",
       "39396    False\n",
       "39397    False\n",
       "39398    False\n",
       "39399    False\n",
       "39400    False\n",
       "39401    False\n",
       "39402    False\n",
       "39403    False\n",
       "Length: 39404, dtype: bool"
      ]
     },
     "execution_count": 89,
     "metadata": {},
     "output_type": "execute_result"
    }
   ],
   "source": [
    "df.apply(lambda x: x[\"Home\"], axis=1)"
   ]
  },
  {
   "cell_type": "markdown",
   "metadata": {},
   "source": [
    "## Enemy Goals"
   ]
  },
  {
   "cell_type": "code",
   "execution_count": 64,
   "metadata": {},
   "outputs": [],
   "source": [
    "def getEnemyGolsScored(df, scout_id, num_rounds):\n",
    "    clube = getClubeVisitante(df, scout_id) if getHome(df, scout_id) else getClubeCasa(df, scout_id)\n",
    "    df_home = df.loc[(df_filtered.ClubeID == clube) & (df_filtered.Home == True)]\n",
    "    df_away = df.loc[(df_filtered.ClubeID == clube) & (df_filtered.Home == False)]\n",
    "    df_team = df.loc[(df_filtered.ClubeID == clube)]\n",
    "    sum_goals_home = getColumnSumLastRounds(df_home, scout_id, \"home_score\", num_rounds)\n",
    "    sum_goals_away = getColumnSumLastRounds(df_away, scout_id, \"away_score\", num_rounds)\n",
    "    count_games = getColumnCountLastRounds(df_team, scout_id, \"home_score\", num_rounds)\n",
    "    return (sum_goals_home + sum_goals_away) / count_games\n",
    "\n",
    "def getEnemyGolsTaken(df, scout_id, num_rounds):\n",
    "    clube = getClubeVisitante(df, scout_id) if getHome(df, scout_id) else getClubeCasa(df, scout_id)\n",
    "    df_home = df.loc[(df_filtered.ClubeID == clube) & (df_filtered.Home == True)]\n",
    "    df_away = df.loc[(df_filtered.ClubeID == clube) & (df_filtered.Home == False)]\n",
    "    df_team = df.loc[(df_filtered.ClubeID == clube)]\n",
    "    sum_goals_home = getColumnSumLastRounds(df_home, scout_id, \"away_score\", num_rounds)\n",
    "    sum_goals_away = getColumnSumLastRounds(df_away, scout_id, \"home_score\", num_rounds)\n",
    "    count_games = getColumnCountLastRounds(df_team, scout_id, \"home_score\", num_rounds)\n",
    "    return (sum_goals_home + sum_goals_away) / count_games\n",
    "\n",
    "def getEnemyGolsScoredHome(df, scout_id, num_rounds):\n",
    "    clube = getClubeVisitante(df, scout_id) if getHome(df, scout_id) else getClubeCasa(df, scout_id)\n",
    "    df_filtered = df.loc[(df_filtered.ClubeID == clube) & (df_filtered.Home == True)]\n",
    "    return getColumnAverageLastRounds(df_filtered, scout_id, \"home_score\", num_rounds)\n",
    "\n",
    "def getEnemyGolsScoredAway(df, scout_id, num_rounds):\n",
    "    clube = getClubeVisitante(df, scout_id) if getHome(df, scout_id) else getClubeCasa(df, scout_id)\n",
    "    df_filtered = df.loc[(df_filtered.ClubeID == clube) & (df_filtered.Home == False)]\n",
    "    return getColumnAverageLastRounds(df_filtered, scout_id, \"away_score\", num_rounds)\n",
    "\n",
    "def getEnemyGolsTakenHome(df, scout_id, num_rounds):\n",
    "    clube = getClubeVisitante(df, scout_id) if getHome(df, scout_id) else getClubeCasa(df, scout_id)\n",
    "    df_filtered = df.loc[(df_filtered.ClubeID == clube) & (df_filtered.Home == True)]\n",
    "    return getColumnAverageLastRounds(df_filtered, scout_id, \"away_score\", num_rounds)\n",
    "\n",
    "def getEnemyGolsTakenAway(df, scout_id, num_rounds):\n",
    "    clube = getClubeVisitante(df, scout_id) if getHome(df, scout_id) else getClubeCasa(df, scout_id)\n",
    "    df_filtered = df.loc[(df_filtered.ClubeID == clube) & (df_filtered.Home == False)]\n",
    "    return getColumnAverageLastRounds(df_filtered, scout_id, \"home_score\", num_rounds)"
   ]
  },
  {
   "cell_type": "code",
   "execution_count": null,
   "metadata": {},
   "outputs": [],
   "source": [
    "for num_rounds in [1, 5, 10, 15]:\n",
    "    for play in plays + ['Pontos'] + ['Preco']:\n",
    "        df['avg_' + play + 'last_' + str(num_rounds)] = df.apply(\n",
    "            lambda x: getColumnAverageLastRounds(df, x.ScoutID, play, num_rounds))\n",
    "        \n",
    "    df['team_goals_home_last_' + str(num_rounds)] = df.apply(\n",
    "        lambda x: getTeamGolsScored(df, x.ScoutID, play))\n",
    "        \n",
    "    df['team_goals_home_last_' + str(num_rounds)] = df.apply(\n",
    "        lambda x: getTeamGolsTaken(df, x.ScoutID, play))\n",
    "        \n",
    "    df['team_goals_home_last_' + str(num_rounds)] = df.apply(\n",
    "        lambda x: getTeamGolsScoredHome(df, x.ScoutID, play))\n",
    "        \n",
    "    df['team_goals_home_last_' + str(num_rounds)] = df.apply(\n",
    "        lambda x: getTeamGolsScoredAway(df, x.ScoutID, play))\n",
    "        \n",
    "    df['team_goals_home_last_' + str(num_rounds)] = df.apply(\n",
    "        lambda x: getTeamGolsTakenHome(df, x.ScoutID, play))\n",
    "        \n",
    "    df['team_goals_home_last_' + str(num_rounds)] = df.apply(\n",
    "        lambda x: getTeamGolsTakenAway(df, x.ScoutID, play))\n",
    "        \n",
    "        \n",
    "        \n",
    "    df['team_goals_home_last_' + str(num_rounds)] = df.apply(\n",
    "        lambda x: getEnemyGolsScored(df, x.ScoutID, play))\n",
    "        \n",
    "    df['team_goals_home_last_' + str(num_rounds)] = df.apply(\n",
    "        lambda x: getEnemyGolsTaken(df, x.ScoutID, play))\n",
    "        \n",
    "    df['team_goals_home_last_' + str(num_rounds)] = df.apply(\n",
    "        lambda x: getEnemyGolsScoredHome(df, x.ScoutID, play))\n",
    "        \n",
    "    df['team_goals_home_last_' + str(num_rounds)] = df.apply(\n",
    "        lambda x: getEnemyGolsScoredAway(df, x.ScoutID, play))\n",
    "        \n",
    "    df['team_goals_home_last_' + str(num_rounds)] = df.apply(\n",
    "        lambda x: getEnemyGolsTakenHome(df, x.ScoutID, play))\n",
    "        \n",
    "    df['team_goals_home_last_' + str(num_rounds)] = df.apply(\n",
    "        lambda x: getEnemyGolsTakenAway(df, x.ScoutID, play))"
   ]
  },
  {
   "cell_type": "markdown",
   "metadata": {},
   "source": [
    "## Team/Enemy Goals Ratio"
   ]
  },
  {
   "cell_type": "code",
   "execution_count": 65,
   "metadata": {},
   "outputs": [],
   "source": [
    "def getTeamScoredEnemyTakenRatio(df, scout_id, num_rounds):\n",
    "    return getTeamGolsScored(df, scout_id, num_rounds) / getEnemyGolsTaken(df, scout_id, num_rounds)\n",
    "\n",
    "def getTeamScoredEnemyTakenRatioHome(df, scout_id, num_rounds):\n",
    "    return getTeamGolsScoredHome(df, scout_id, num_rounds) / getEnemyGolsTakenAway(df, scout_id, num_rounds)\n",
    "\n",
    "def getTeamScoredEnemyTakenRatioAway(df, scout_id, num_rounds):\n",
    "    return getTeamGolsScoredAway(df, scout_id, num_rounds) / getEnemyGolsTakenHome(df, scout_id, num_rounds)\n",
    "\n",
    "\n",
    "def getTeamTakenEnemyScoredRatio(df, scout_id, num_rounds):\n",
    "    return getTeamGolsTaken(df, scout_id, num_rounds) / getEnemyGolsScored(df, scout_id, num_rounds)\n",
    "\n",
    "def getTeamTakenEnemyScoredRatioHome(df, scout_id, num_rounds):\n",
    "    return getTeamGolsTakenHome(df, scout_id, num_rounds) / getEnemyGolsScoredAway(df, scout_id, num_rounds)\n",
    "\n",
    "def getTeamTakenEnemyScoredRatioAway(df, scout_id, num_rounds):\n",
    "    return getTeamGolsTakenAway(df, scout_id, num_rounds) / getEnemyGolsScoredHome(df, scout_id, num_rounds)"
   ]
  },
  {
   "cell_type": "markdown",
   "metadata": {},
   "source": [
    "## Team Players Points"
   ]
  },
  {
   "cell_type": "code",
   "execution_count": 72,
   "metadata": {},
   "outputs": [],
   "source": [
    "def getAverageTeamPoints(df, scout_id, num_rounds):\n",
    "    clube = getClubeID(df, scout_id)\n",
    "    df_filtered = filterDfClube(df, clube)\n",
    "    return getColumnAverageLastRounds(df_filtered, scout_id, \"Pontos\", num_rounds)\n",
    "\n",
    "def getAverageTeamPointsHome(df, scout_id, num_rounds):\n",
    "    clube = getClubeID(df, scout_id)\n",
    "    df_filtered = filterHome(filterDfClube(df, clube), True)\n",
    "    return getColumnAverageLastRounds(df_filtered, scout_id, \"Pontos\", num_rounds)\n",
    "\n",
    "def getAverageTeamPointsAway(df, scout_id, num_rounds):\n",
    "    clube = getClubeID(df, scout_id)\n",
    "    df_filtered = filterHome(filterDfClube(df, clube), False)\n",
    "    return getColumnAverageLastRounds(df_filtered, scout_id, \"Pontos\", num_rounds)\n",
    "\n",
    "def getAverageEnemyPoints(df, scout_id, num_rounds):\n",
    "    clube = getClubeVisitante(df, scout_id) if getHome(df, scout_id) else getClubeCasa(df, scout_id)\n",
    "    df_filtered = filterDfClube(df, clube)\n",
    "    return getColumnAverageLastRounds(df_filtered, scout_id, \"Pontos\", num_rounds)\n",
    "\n",
    "def getAverageEnemyPointsHome(df, scout_id, num_rounds):\n",
    "    clube = getClubeVisitante(df, scout_id) if getHome(df, scout_id) else getClubeCasa(df, scout_id)\n",
    "    df_filtered = filterHome(filterDfClube(df, clube), True)\n",
    "    return getColumnAverageLastRounds(df_filtered, scout_id, \"Pontos\", num_rounds)\n",
    "\n",
    "def getAverageEnemyPointsAway(df, scout_id, num_rounds):\n",
    "    clube = getClubeVisitante(df, scout_id) if getHome(df, scout_id) else getClubeCasa(df, scout_id)\n",
    "    df_filtered = filterHome(filterDfClube(df, clube), False)\n",
    "    return getColumnAverageLastRounds(df_filtered, scout_id, \"Pontos\", num_rounds)\n",
    "\n",
    "def getAverageTeamPointsEnemyRatio(df, scout_id, num_rounds):\n",
    "    return getAverageTeamPoints(df, scout_id, num_rounds) / getAverageEnemyPoints(df, scout_id, num_rounds)\n",
    "\n",
    "def getAverageTeamPointsEnemyRatioHome(df, scout_id, num_rounds):\n",
    "    return getAverageTeamPointsHome(df, scout_id, num_rounds) / getAverageEnemyPointsAway(df, scout_id, num_rounds)\n",
    "\n",
    "def getAverageTeamPointsEnemyRatio(df, scout_id, num_rounds):\n",
    "    return getAverageTeamPointsAway(df, scout_id, num_rounds) / getAverageEnemyPointsHome(df, scout_id, num_rounds)\n",
    "\n"
   ]
  },
  {
   "cell_type": "code",
   "execution_count": 70,
   "metadata": {},
   "outputs": [],
   "source": [
    "def getStdTeamPoints(df, scout_id, num_rounds):\n",
    "    clube = getClubeID(df, scout_id)\n",
    "    df_filtered = filterDfClube(df, clube)\n",
    "    return getColumnStdDevLastRounds(df_filtered, scout_id, \"Pontos\", num_rounds)\n",
    "\n",
    "def getStdTeamPointsHome(df, scout_id, num_rounds):\n",
    "    clube = getClubeID(df, scout_id)\n",
    "    df_filtered = filterHome(filterDfClube(df, clube), True)\n",
    "    return getColumnStdDevLastRounds(df_filtered, scout_id, \"Pontos\", num_rounds)\n",
    "\n",
    "def getStdTeamPointsAway(df, scout_id, num_rounds):\n",
    "    clube = getClubeID(df, scout_id)\n",
    "    df_filtered = filterHome(filterDfClube(df, clube), False)\n",
    "    return getColumnStdDevLastRounds(df_filtered, scout_id, \"Pontos\", num_rounds)\n",
    "\n",
    "def getStdEnemyPoints(df, scout_id, num_rounds):\n",
    "    clube = getClubeVisitante(df, scout_id) if getHome(df, scout_id) else getClubeCasa(df, scout_id)\n",
    "    df_filtered = filterDfClube(df, clube)\n",
    "    return getColumnStdDevLastRounds(df_filtered, scout_id, \"Pontos\", num_rounds)\n",
    "\n",
    "def getStdEnemyPointsHome(df, scout_id, num_rounds):\n",
    "    clube = getClubeVisitante(df, scout_id) if getHome(df, scout_id) else getClubeCasa(df, scout_id)\n",
    "    df_filtered = filterHome(filterDfClube(df, clube), True)\n",
    "    return getColumnStdDevLastRounds(df_filtered, scout_id, \"Pontos\", num_rounds)\n",
    "\n",
    "def getStdEnemyPointsAway(df, scout_id, num_rounds):\n",
    "    clube = getClubeVisitante(df, scout_id) if getHome(df, scout_id) else getClubeCasa(df, scout_id)\n",
    "    df_filtered = filterHome(filterDfClube(df, clube), False)\n",
    "    return getColumnStdDevLastRounds(df_filtered, scout_id, \"Pontos\", num_rounds)\n",
    "\n",
    "def getStdTeamPointsEnemyRatio(df, scout_id, num_rounds):\n",
    "    return (getAverageTeamPoints(df, scout_id, num_rounds) - \n",
    "            getAverageEnemyPoints(df, scout_id, num_rounds)) / getStdTeamPoints(df, scout_id, num_rounds)\n",
    "\n",
    "def getStdTeamPointsEnemyRatioHome(df, scout_id, num_rounds):\n",
    "    return (getAverageTeamPointsHome(df, scout_id, num_rounds) - \n",
    "            getAverageEnemyPointsAway(df, scout_id, num_rounds)) / getStdTeamPointsHome(df, scout_id, num_rounds)\n",
    "\n",
    "def getStdTeamPointsEnemyRatioAway(df, scout_id, num_rounds):\n",
    "    return (getAverageTeamPointsAway(df, scout_id, num_rounds) - \n",
    "            getAverageEnemyPointsHome(df, scout_id, num_rounds)) / getStdTeamPointsAway(df, scout_id, num_rounds)\n",
    "\n"
   ]
  },
  {
   "cell_type": "markdown",
   "metadata": {},
   "source": [
    "## Team Game Points"
   ]
  },
  {
   "cell_type": "code",
   "execution_count": null,
   "metadata": {},
   "outputs": [],
   "source": [
    "def getAverageTeamGamePoints(df, scout_id, num_rounds):\n",
    "    clube = getClubeID(df, scout_id)\n",
    "    df_filtered = filterDfClube(df, clube)\n",
    "    return getColumnAverageLastRounds(df_filtered, scout_id, \"game_points\", num_rounds)\n",
    "\n",
    "def getAverageTeamGamePointsHome(df, scout_id, num_rounds):\n",
    "    clube = getClubeID(df, scout_id)\n",
    "    df_filtered = filterHome(filterDfClube(df, clube), True)\n",
    "    return getColumnAverageLastRounds(df_filtered, scout_id, \"game_points\", num_rounds)\n",
    "\n",
    "def getAverageTeamGamePointsAway(df, scout_id, num_rounds):\n",
    "    clube = getClubeID(df, scout_id)\n",
    "    df_filtered = filterHome(filterDfClube(df, clube), False)\n",
    "    return getColumnAverageLastRounds(df_filtered, scout_id, \"game_points\", num_rounds)\n",
    "\n",
    "def getAverageEnemyGamePoints(df, scout_id, num_rounds):\n",
    "    clube = getClubeVisitante(df, scout_id) if getHome(df, scout_id) else getClubeCasa(df, scout_id)\n",
    "    df_filtered = filterDfClube(df, clube)\n",
    "    return getColumnAverageLastRounds(df_filtered, scout_id, \"game_points\", num_rounds)\n",
    "\n",
    "def getAverageEnemyGamePointsHome(df, scout_id, num_rounds):\n",
    "    clube = getClubeVisitante(df, scout_id) if getHome(df, scout_id) else getClubeCasa(df, scout_id)\n",
    "    df_filtered = filterHome(filterDfClube(df, clube), True)\n",
    "    return getColumnAverageLastRounds(df_filtered, scout_id, \"game_points\", num_rounds)\n",
    "\n",
    "def getAverageEnemyGamePointsAway(df, scout_id, num_rounds):\n",
    "    clube = getClubeVisitante(df, scout_id) if getHome(df, scout_id) else getClubeCasa(df, scout_id)\n",
    "    df_filtered = filterHome(filterDfClube(df, clube), False)\n",
    "    return getColumnAverageLastRounds(df_filtered, scout_id, \"game_points\", num_rounds)\n",
    "\n",
    "def getAverageTeamGamePointsEnemyRatio(df, scout_id, num_rounds):\n",
    "    return getAverageTeamPoints(df, scout_id, num_rounds) / getAverageEnemyPoints(df, scout_id, num_rounds)\n",
    "\n",
    "def getAverageTeamGamePointsEnemyRatioHome(df, scout_id, num_rounds):\n",
    "    return getAverageTeamGamePointsHome(df, scout_id, num_rounds) / getAverageEnemyGamePointsAway(df, scout_id, num_rounds)\n",
    "\n",
    "def getAverageTeamGamePointsEnemyRatio(df, scout_id, num_rounds):\n",
    "    return getAverageTeamGamePointsAway(df, scout_id, num_rounds) / getAverageEnemyGamePointsHome(df, scout_id, num_rounds)\n",
    "\n"
   ]
  },
  {
   "cell_type": "code",
   "execution_count": 76,
   "metadata": {},
   "outputs": [],
   "source": [
    "def getStdTeamGamePoints(df, scout_id, num_rounds):\n",
    "    clube = getClubeID(df, scout_id)\n",
    "    df_filtered = filterDfClube(df, clube)\n",
    "    return getColumnStdDevLastRounds(df_filtered, scout_id, \"game_points\", num_rounds)\n",
    "\n",
    "def getStdTeamGamePointsHome(df, scout_id, num_rounds):\n",
    "    clube = getClubeID(df, scout_id)\n",
    "    df_filtered = filterHome(filterDfClube(df, clube), True)\n",
    "    return getColumnStdDevLastRounds(df_filtered, scout_id, \"game_points\", num_rounds)\n",
    "\n",
    "def getStdTeamGamePointsAway(df, scout_id, num_rounds):\n",
    "    clube = getClubeID(df, scout_id)\n",
    "    df_filtered = filterHome(filterDfClube(df, clube), False)\n",
    "    return getColumnStdDevLastRounds(df_filtered, scout_id, \"game_points\", num_rounds)\n",
    "\n",
    "def getStdEnemyGamePoints(df, scout_id, num_rounds):\n",
    "    clube = getClubeVisitante(df, scout_id) if getHome(df, scout_id) else getClubeCasa(df, scout_id)\n",
    "    df_filtered = filterDfClube(df, clube)\n",
    "    return getColumnStdDevLastRounds(df_filtered, scout_id, \"game_points\", num_rounds)\n",
    "\n",
    "def getStdEnemyGamePointsHome(df, scout_id, num_rounds):\n",
    "    clube = getClubeVisitante(df, scout_id) if getHome(df, scout_id) else getClubeCasa(df, scout_id)\n",
    "    df_filtered = filterHome(filterDfClube(df, clube), True)\n",
    "    return getColumnStdDevLastRounds(df_filtered, scout_id, \"game_points\", num_rounds)\n",
    "\n",
    "def getStdEnemyGamePointsAway(df, scout_id, num_rounds):\n",
    "    clube = getClubeVisitante(df, scout_id) if getHome(df, scout_id) else getClubeCasa(df, scout_id)\n",
    "    df_filtered = filterHome(filterDfClube(df, clube), False)\n",
    "    return getColumnStdDevLastRounds(df_filtered, scout_id, \"game_points\", num_rounds)\n",
    "\n",
    "def getStdTeamGamePointsEnemyRatio(df, scout_id, num_rounds):\n",
    "    return (getAverageTeamGamePoints(df, scout_id, num_rounds) - \n",
    "            getAverageEnemyGamePoints(df, scout_id, num_rounds)) / getStdTeamGamePoints(df, scout_id, num_rounds)\n",
    "\n",
    "def getStdTeamGamePointsEnemyRatioHome(df, scout_id, num_rounds):\n",
    "    return (getAverageTeamGamePointsHome(df, scout_id, num_rounds) - \n",
    "            getAverageEnemyGamePointsAway(df, scout_id, num_rounds)) / getStdTeamGamePointsHome(df, scout_id, num_rounds)\n",
    "\n",
    "def getStdTeamGamePointsEnemyRatioAway(df, scout_id, num_rounds):\n",
    "    return (getAverageTeamGamePointsAway(df, scout_id, num_rounds) - \n",
    "            getAverageEnemyGamePointsHome(df, scout_id, num_rounds)) / getStdTeamGamePointsAway(df, scout_id, num_rounds)\n",
    "\n"
   ]
  },
  {
   "cell_type": "markdown",
   "metadata": {},
   "source": [
    "## Team Price"
   ]
  },
  {
   "cell_type": "code",
   "execution_count": 74,
   "metadata": {},
   "outputs": [],
   "source": [
    "def getAverageTeamPrice(df, scout_id, num_rounds):\n",
    "    clube = getClubeID(df, scout_id)\n",
    "    df_filtered = filterDfClube(df, clube)\n",
    "    return getColumnAverageLastRounds(df_filtered, scout_id, \"Preco\", num_rounds)\n",
    "\n",
    "def getAverageEnemyPrice(df, scout_id, num_rounds):\n",
    "    clube = getClubeVisitante(df, scout_id) if getHome(df, scout_id) else getClubeCasa(df, scout_id)\n",
    "    df_filtered = filterDfClube(df, clube)\n",
    "    return getColumnAverageLastRounds(df_filtered, scout_id, \"Preco\", num_rounds)\n",
    "\n",
    "def getAverageTeamEnemyPriceRatio(df, scout_id, num_rounds):\n",
    "    return getAverageTeamPrice(df, scout_id, num_rounds) / getAverageEnemyPrice(df, scout_id, num_rounds)"
   ]
  },
  {
   "cell_type": "code",
   "execution_count": 73,
   "metadata": {},
   "outputs": [],
   "source": [
    "def getStdTeamPrice(df, scout_id, num_rounds):\n",
    "    clube = getClubeID(df, scout_id)\n",
    "    df_filtered = filterDfClube(df, clube)\n",
    "    return getColumnStdDevLastRounds(df_filtered, scout_id, \"Preco\", num_rounds)\n",
    "\n",
    "def getStdEnemyPrice(df, scout_id, num_rounds):\n",
    "    clube = getClubeVisitante(df, scout_id) if getHome(df, scout_id) else getClubeCasa(df, scout_id)\n",
    "    df_filtered = filterDfClube(df, clube)\n",
    "    return getColumnStdDevLastRounds(df_filtered, scout_id, \"Preco\", num_rounds)\n",
    "\n",
    "def getStdTeamEnemyPriceRatio(df, scout_id, num_rounds):\n",
    "    return (getAverageTeamPrice(df, scout_id, num_rounds) - \n",
    "            getAverageEnemyPrice(df, scout_id, num_rounds)) / getStdTeamPrice(df, scout_id, num_rounds)"
   ]
  },
  {
   "cell_type": "code",
   "execution_count": null,
   "metadata": {},
   "outputs": [],
   "source": []
  },
  {
   "cell_type": "markdown",
   "metadata": {},
   "source": [
    "# Position Features"
   ]
  },
  {
   "cell_type": "markdown",
   "metadata": {},
   "source": [
    "## Average Points Position"
   ]
  },
  {
   "cell_type": "code",
   "execution_count": 78,
   "metadata": {},
   "outputs": [],
   "source": [
    "def getAveragePositionPoints(df, scout_id, num_rounds):\n",
    "    pos = getPosicao(df, scout_id)\n",
    "    df_filtered = filterDfPosicao(df, pos)\n",
    "    return getColumnAverageLastRounds(df_filtered, scout_id, \"Pontos\", num_rounds)\n",
    "\n",
    "def getAveragePositionPointsHome(df, scout_id, num_rounds):\n",
    "    pos = getPosicao(df, scout_id)\n",
    "    df_filtered = filterHome(filterDfPosicao(df, pos), True)\n",
    "    return getColumnAverageLastRounds(df_filtered, scout_id, \"Pontos\", num_rounds)\n",
    "\n",
    "def getAveragePositionPointsAway(df, scout_id, num_rounds):\n",
    "    pos = getPosicao(df, scout_id)\n",
    "    df_filtered = filterHome(filterDfPosicao(df, pos), False)\n",
    "    return getColumnAverageLastRounds(df_filtered, scout_id, \"Pontos\", num_rounds)\n",
    "    "
   ]
  },
  {
   "cell_type": "markdown",
   "metadata": {},
   "source": [
    "## StdDev Points Position"
   ]
  },
  {
   "cell_type": "code",
   "execution_count": 79,
   "metadata": {},
   "outputs": [],
   "source": [
    "def getStdPositionPoints(df, scout_id, num_rounds):\n",
    "    pos = getPosicao(df, scout_id)\n",
    "    df_filtered = filterDfPosicao(df, pos)\n",
    "    return getColumnStdDevLastRounds(df_filtered, scout_id, \"Pontos\", num_rounds)\n",
    "\n",
    "def getStdPositionPointsHome(df, scout_id, num_rounds):\n",
    "    pos = getPosicao(df, scout_id)\n",
    "    df_filtered = filterHome(filterDfPosicao(df, pos), True)\n",
    "    return getColumnStdDevLastRounds(df_filtered, scout_id, \"Pontos\", num_rounds)\n",
    "\n",
    "def getStdPositionPointsAway(df, scout_id, num_rounds):\n",
    "    pos = getPosicao(df, scout_id)\n",
    "    df_filtered = filterHome(filterDfPosicao(df, pos), False)\n",
    "    return getColumnStdDevLastRounds(df_filtered, scout_id, \"Pontos\", num_rounds)\n",
    "    "
   ]
  },
  {
   "cell_type": "markdown",
   "metadata": {},
   "source": [
    "## Average Points Position V/E/D"
   ]
  },
  {
   "cell_type": "code",
   "execution_count": 82,
   "metadata": {},
   "outputs": [],
   "source": [
    "def getAveragePositionPointsWin(df, scout_id, num_rounds):\n",
    "    pos = getPosicao(df, scout_id)\n",
    "    df_filtered = filterDfResult(filterDfPosicao(df, pos), 1)\n",
    "    return getColumnAverageLastRounds(df_filtered, scout_id, \"Pontos\", num_rounds)\n",
    "\n",
    "def getAveragePositionPointsDraw(df, scout_id, num_rounds):\n",
    "    pos = getPosicao(df, scout_id)\n",
    "    df_filtered = filterDfResult(filterDfPosicao(df, pos), 0)\n",
    "    return getColumnAverageLastRounds(df_filtered, scout_id, \"Pontos\", num_rounds)\n",
    "\n",
    "def getAveragePositionPointsLoss(df, scout_id, num_rounds):\n",
    "    pos = getPosicao(df, scout_id)\n",
    "    df_filtered = filterDfResult(filterDfPosicao(df, pos), -1)\n",
    "    return getColumnAverageLastRounds(df_filtered, scout_id, \"Pontos\", num_rounds)\n",
    "    "
   ]
  },
  {
   "cell_type": "code",
   "execution_count": null,
   "metadata": {},
   "outputs": [],
   "source": []
  }
 ],
 "metadata": {
  "kernelspec": {
   "display_name": "Python 3",
   "language": "python",
   "name": "python3"
  },
  "language_info": {
   "codemirror_mode": {
    "name": "ipython",
    "version": 3
   },
   "file_extension": ".py",
   "mimetype": "text/x-python",
   "name": "python",
   "nbconvert_exporter": "python",
   "pygments_lexer": "ipython3",
   "version": "3.6.4"
  }
 },
 "nbformat": 4,
 "nbformat_minor": 2
}
