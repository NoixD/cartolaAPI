{
 "cells": [
  {
   "cell_type": "code",
   "execution_count": 1,
   "metadata": {},
   "outputs": [],
   "source": [
    "import pandas as pd\n",
    "import numpy as np\n",
    "import matplotlib.pyplot as plt\n",
    "import seaborn as sns"
   ]
  },
  {
   "cell_type": "code",
   "execution_count": 45,
   "metadata": {},
   "outputs": [],
   "source": [
    "import sys\n",
    "import pickle\n",
    "sys.path.append('/Users/henriquelopes/Projects/cartolaAPI')"
   ]
  },
  {
   "cell_type": "code",
   "execution_count": 3,
   "metadata": {},
   "outputs": [],
   "source": [
    "from xgboost import XGBRegressor\n",
    "from sklearn.linear_model import LinearRegression\n",
    "from sklearn.neighbors import KNeighborsRegressor\n",
    "from sklearn.model_selection import GridSearchCV\n",
    "from data_science_utils.result_analysis.evaluation_metrics import *\n",
    "from sklearn.preprocessing import LabelEncoder\n",
    "from sklearn.preprocessing import OneHotEncoder"
   ]
  },
  {
   "cell_type": "code",
   "execution_count": 4,
   "metadata": {},
   "outputs": [],
   "source": [
    "TARGET = 'target'\n",
    "\n",
    "BASIC_FEATURES = ['Pontos', 'PontosMedia', 'Preco', 'PrecoVariacao', \n",
    "                  'FS', 'PE', 'A', 'FT', 'FD', 'FF', 'G', 'I', 'PP', \n",
    "                  'RB', 'FC', 'GC', 'CA', 'CV', 'SG', 'DD', 'DP', 'GS',\n",
    "                 'home_score', 'away_score', 'result', 'game_points', 'Home']\n",
    "\n",
    "CATEGORICAL_FEATURES = ['mei', 'missing', 'ata', 'lat', 'zag', 'gol',\n",
    "                        'GRE', 'SAO', 'FLA', 'COR', 'PAL', 'CFC', 'CRU',\n",
    "                        'CAP', 'SAN', 'SPT', 'FLU', 'CHA', 'CAM', 'INT',\n",
    "                        'FIG', 'VIT', 'BOT', 'PON', 'GOI', 'BAH', 'VAS',\n",
    "                        'AVA', 'JEC', 'SCZ', 'CRI', 'AME', 'ATL-GO', 'True', 'False']\n",
    "\n",
    "PLAYER_FEATURES = ['FS_avg_last_20', 'PE_avg_last_20', 'A_avg_last_20', 'FT_avg_last_20',\n",
    "                   'FD_avg_last_20', 'FF_avg_last_20', 'G_avg_last_20', 'I_avg_last_20',\n",
    "                   'PP_avg_last_20', 'RB_avg_last_20', 'FC_avg_last_20', 'GC_avg_last_20',\n",
    "                   'CA_avg_last_20', 'CV_avg_last_20', 'SG_avg_last_20', 'DD_avg_last_20',\n",
    "                   'DP_avg_last_20', 'GS_avg_last_20', 'Pontos_avg_last_20', 'Preco_avg_last_20',\n",
    "                   'game_points_avg_last_20', 'FS_avg_last_10', 'PE_avg_last_10', 'A_avg_last_10',\n",
    "                   'FT_avg_last_10', 'FD_avg_last_10', 'FF_avg_last_10', 'G_avg_last_10', 'I_avg_last_10',\n",
    "                   'PP_avg_last_10', 'RB_avg_last_10', 'FC_avg_last_10', 'GC_avg_last_10', 'CA_avg_last_10',\n",
    "                   'CV_avg_last_10', 'SG_avg_last_10', 'DD_avg_last_10', 'DP_avg_last_10', 'GS_avg_last_10',\n",
    "                   'Pontos_avg_last_10', 'Preco_avg_last_10', 'game_points_avg_last_10', 'FS_avg_last_5', \n",
    "                   'PE_avg_last_5', 'A_avg_last_5', 'FT_avg_last_5', 'FD_avg_last_5', 'FF_avg_last_5', \n",
    "                   'G_avg_last_5', 'I_avg_last_5', 'PP_avg_last_5', 'RB_avg_last_5', 'FC_avg_last_5',\n",
    "                   'GC_avg_last_5', 'CA_avg_last_5', 'CV_avg_last_5', 'SG_avg_last_5', 'DD_avg_last_5',\n",
    "                   'DP_avg_last_5', 'GS_avg_last_5', 'Pontos_avg_last_5', 'Preco_avg_last_5', \n",
    "                   'game_points_avg_last_5', 'FS_avg_home_last_20', 'PE_avg_home_last_20', 'A_avg_home_last_20',\n",
    "                   'FT_avg_home_last_20', 'FD_avg_home_last_20', 'FF_avg_home_last_20', 'G_avg_home_last_20',\n",
    "                   'I_avg_home_last_20', 'PP_avg_home_last_20', 'RB_avg_home_last_20', 'FC_avg_home_last_20',\n",
    "                   'GC_avg_home_last_20', 'CA_avg_home_last_20', 'CV_avg_home_last_20', 'SG_avg_home_last_20',\n",
    "                   'DD_avg_home_last_20', 'DP_avg_home_last_20', 'GS_avg_home_last_20', 'Pontos_avg_home_last_20',\n",
    "                   'Preco_avg_home_last_20', 'game_points_avg_home_last_20', 'FS_avg_home_last_10', \n",
    "                   'PE_avg_home_last_10', 'A_avg_home_last_10', 'FT_avg_home_last_10', 'FD_avg_home_last_10',\n",
    "                   'FF_avg_home_last_10', 'G_avg_home_last_10', 'I_avg_home_last_10', 'PP_avg_home_last_10', \n",
    "                   'RB_avg_home_last_10', 'FC_avg_home_last_10', 'GC_avg_home_last_10', 'CA_avg_home_last_10',\n",
    "                   'CV_avg_home_last_10', 'SG_avg_home_last_10', 'DD_avg_home_last_10', 'DP_avg_home_last_10',\n",
    "                   'GS_avg_home_last_10', 'Pontos_avg_home_last_10', 'Preco_avg_home_last_10', \n",
    "                   'game_points_avg_home_last_10', 'FS_avg_home_last_5', 'PE_avg_home_last_5',\n",
    "                   'A_avg_home_last_5', 'FT_avg_home_last_5', 'FD_avg_home_last_5', 'FF_avg_home_last_5',\n",
    "                   'G_avg_home_last_5', 'I_avg_home_last_5', 'PP_avg_home_last_5', 'RB_avg_home_last_5', \n",
    "                   'FC_avg_home_last_5', 'GC_avg_home_last_5', 'CA_avg_home_last_5', 'CV_avg_home_last_5', \n",
    "                   'SG_avg_home_last_5', 'DD_avg_home_last_5', 'DP_avg_home_last_5', 'GS_avg_home_last_5',\n",
    "                   'Pontos_avg_home_last_5', 'Preco_avg_home_last_5', 'game_points_avg_home_last_5',]\n",
    "\n",
    "TEAM_FEATURES = ['FS_avg_team_home_last_20', 'PE_avg_team_home_last_20', 'A_avg_team_home_last_20',\n",
    "                 'FT_avg_team_home_last_20', 'FD_avg_team_home_last_20', 'FF_avg_team_home_last_20',\n",
    "                 'G_avg_team_home_last_20', 'I_avg_team_home_last_20', 'PP_avg_team_home_last_20',\n",
    "                 'RB_avg_team_home_last_20', 'FC_avg_team_home_last_20', 'GC_avg_team_home_last_20',\n",
    "                 'CA_avg_team_home_last_20', 'CV_avg_team_home_last_20', 'SG_avg_team_home_last_20',\n",
    "                 'DD_avg_team_home_last_20', 'DP_avg_team_home_last_20', 'GS_avg_team_home_last_20',\n",
    "                 'Pontos_avg_team_home_last_20', 'Preco_avg_team_home_last_20', 'game_points_avg_team_home_last_20', \n",
    "                 'FS_avg_team_home_last_10', 'PE_avg_team_home_last_10', 'A_avg_team_home_last_10',\n",
    "                 'FT_avg_team_home_last_10', 'FD_avg_team_home_last_10', 'FF_avg_team_home_last_10',\n",
    "                 'G_avg_team_home_last_10', 'I_avg_team_home_last_10', 'PP_avg_team_home_last_10',\n",
    "                 'RB_avg_team_home_last_10', 'FC_avg_team_home_last_10', 'GC_avg_team_home_last_10', \n",
    "                 'CA_avg_team_home_last_10', 'CV_avg_team_home_last_10', 'SG_avg_team_home_last_10',\n",
    "                 'DD_avg_team_home_last_10', 'DP_avg_team_home_last_10', 'GS_avg_team_home_last_10', \n",
    "                 'Pontos_avg_team_home_last_10', 'Preco_avg_team_home_last_10', 'game_points_avg_team_home_last_10',\n",
    "                 'FS_avg_team_home_last_5', 'PE_avg_team_home_last_5', 'A_avg_team_home_last_5', \n",
    "                 'FT_avg_team_home_last_5', 'FD_avg_team_home_last_5', 'FF_avg_team_home_last_5',\n",
    "                 'G_avg_team_home_last_5', 'I_avg_team_home_last_5', 'PP_avg_team_home_last_5',\n",
    "                 'RB_avg_team_home_last_5', 'FC_avg_team_home_last_5', 'GC_avg_team_home_last_5',\n",
    "                 'CA_avg_team_home_last_5', 'CV_avg_team_home_last_5', 'SG_avg_team_home_last_5',\n",
    "                 'DD_avg_team_home_last_5', 'DP_avg_team_home_last_5', 'GS_avg_team_home_last_5',\n",
    "                 'Pontos_avg_team_home_last_5', 'Preco_avg_team_home_last_5', 'game_points_avg_team_home_last_5']\n",
    "\n",
    "ENEMY_FEATURES = ['FS_avg_enemy_home_last_20', 'PE_avg_enemy_home_last_20', 'A_avg_enemy_home_last_20', \n",
    "                  'FT_avg_enemy_home_last_20', 'FD_avg_enemy_home_last_20', 'FF_avg_enemy_home_last_20',\n",
    "                  'G_avg_enemy_home_last_20', 'I_avg_enemy_home_last_20', 'PP_avg_enemy_home_last_20',\n",
    "                  'RB_avg_enemy_home_last_20', 'FC_avg_enemy_home_last_20', 'GC_avg_enemy_home_last_20',\n",
    "                  'CA_avg_enemy_home_last_20', 'CV_avg_enemy_home_last_20', 'SG_avg_enemy_home_last_20',\n",
    "                  'DD_avg_enemy_home_last_20', 'DP_avg_enemy_home_last_20', 'GS_avg_enemy_home_last_20',\n",
    "                  'Pontos_avg_enemy_home_last_20', 'Preco_avg_enemy_home_last_20', \n",
    "                  'game_points_avg_enemy_home_last_20', 'FS_avg_enemy_home_last_10',\n",
    "                  'PE_avg_enemy_home_last_10', 'A_avg_enemy_home_last_10', 'FT_avg_enemy_home_last_10',\n",
    "                  'FD_avg_enemy_home_last_10', 'FF_avg_enemy_home_last_10', 'G_avg_enemy_home_last_10',\n",
    "                  'I_avg_enemy_home_last_10', 'PP_avg_enemy_home_last_10', 'RB_avg_enemy_home_last_10',\n",
    "                  'FC_avg_enemy_home_last_10', 'GC_avg_enemy_home_last_10', 'CA_avg_enemy_home_last_10',\n",
    "                  'CV_avg_enemy_home_last_10', 'SG_avg_enemy_home_last_10', 'DD_avg_enemy_home_last_10',\n",
    "                  'DP_avg_enemy_home_last_10', 'GS_avg_enemy_home_last_10', 'Pontos_avg_enemy_home_last_10',\n",
    "                  'Preco_avg_enemy_home_last_10', 'game_points_avg_enemy_home_last_10', 'FS_avg_enemy_home_last_5', \n",
    "                  'PE_avg_enemy_home_last_5', 'A_avg_enemy_home_last_5', 'FT_avg_enemy_home_last_5', \n",
    "                  'FD_avg_enemy_home_last_5', 'FF_avg_enemy_home_last_5', 'G_avg_enemy_home_last_5',\n",
    "                  'I_avg_enemy_home_last_5', 'PP_avg_enemy_home_last_5', 'RB_avg_enemy_home_last_5', \n",
    "                  'FC_avg_enemy_home_last_5', 'GC_avg_enemy_home_last_5', 'CA_avg_enemy_home_last_5',\n",
    "                  'CV_avg_enemy_home_last_5', 'SG_avg_enemy_home_last_5', 'DD_avg_enemy_home_last_5',\n",
    "                  'DP_avg_enemy_home_last_5', 'GS_avg_enemy_home_last_5', 'Pontos_avg_enemy_home_last_5',\n",
    "                  'Preco_avg_enemy_home_last_5', 'game_points_avg_enemy_home_last_5']\n",
    "\n",
    "POSITION_FEATURES = ['FS_avg_pos_home_last_20', 'PE_avg_pos_home_last_20', 'A_avg_pos_home_last_20', \n",
    "                     'FT_avg_pos_home_last_20', 'FD_avg_pos_home_last_20', 'FF_avg_pos_home_last_20',\n",
    "                     'G_avg_pos_home_last_20', 'I_avg_pos_home_last_20', 'PP_avg_pos_home_last_20',\n",
    "                     'RB_avg_pos_home_last_20', 'FC_avg_pos_home_last_20', 'GC_avg_pos_home_last_20',\n",
    "                     'CA_avg_pos_home_last_20', 'CV_avg_pos_home_last_20', 'SG_avg_pos_home_last_20',\n",
    "                     'DD_avg_pos_home_last_20', 'DP_avg_pos_home_last_20', 'GS_avg_pos_home_last_20',\n",
    "                     'Pontos_avg_pos_home_last_20', 'Preco_avg_pos_home_last_20', 'game_points_avg_pos_home_last_20',\n",
    "                     'FS_avg_pos_home_last_10', 'PE_avg_pos_home_last_10', 'A_avg_pos_home_last_10', \n",
    "                     'FT_avg_pos_home_last_10', 'FD_avg_pos_home_last_10', 'FF_avg_pos_home_last_10', \n",
    "                     'G_avg_pos_home_last_10', 'I_avg_pos_home_last_10', 'PP_avg_pos_home_last_10', \n",
    "                     'RB_avg_pos_home_last_10', 'FC_avg_pos_home_last_10', 'GC_avg_pos_home_last_10', \n",
    "                     'CA_avg_pos_home_last_10', 'CV_avg_pos_home_last_10', 'SG_avg_pos_home_last_10',\n",
    "                     'DD_avg_pos_home_last_10', 'DP_avg_pos_home_last_10', 'GS_avg_pos_home_last_10',\n",
    "                     'Pontos_avg_pos_home_last_10', 'Preco_avg_pos_home_last_10', 'game_points_avg_pos_home_last_10', \n",
    "                     'FS_avg_pos_home_last_5', 'PE_avg_pos_home_last_5', 'A_avg_pos_home_last_5', \n",
    "                     'FT_avg_pos_home_last_5', 'FD_avg_pos_home_last_5', 'FF_avg_pos_home_last_5',\n",
    "                     'G_avg_pos_home_last_5', 'I_avg_pos_home_last_5', 'PP_avg_pos_home_last_5', \n",
    "                     'RB_avg_pos_home_last_5', 'FC_avg_pos_home_last_5', 'GC_avg_pos_home_last_5',\n",
    "                     'CA_avg_pos_home_last_5', 'CV_avg_pos_home_last_5', 'SG_avg_pos_home_last_5',\n",
    "                     'DD_avg_pos_home_last_5', 'DP_avg_pos_home_last_5', 'GS_avg_pos_home_last_5', \n",
    "                     'Pontos_avg_pos_home_last_5', 'Preco_avg_pos_home_last_5', 'game_points_avg_pos_home_last_5']\n",
    "FEATURES = BASIC_FEATURES + PLAYER_FEATURES + TEAM_FEATURES + POSITION_FEATURES + CATEGORICAL_FEATURES\n",
    "XGB_NUM_ESTIMATORS = 3000\n",
    "XGB_LEARNING_RATE = 0.01\n",
    "\n",
    "GRID_XGB_EXTRA_PARAMS = {\"max_depth\": [5,6,7], \"subsample\": [0.6, 0.7, 0.8] , \"colsample_bytree\": [0.6, 0.7, 0.8],\n",
    "                    \"colsample_by_level\": [0.6, 0.7, 0.8], \"seed\": 43}\n",
    "\n",
    "\n",
    "XGB_EXTRA_PARAMS = {\"max_depth\": 7, \"subsample\": 0.7 , \"colsample_bytree\": 0.5,\n",
    "                    \"colsample_by_level\": 0.5, \"seed\": 43}"
   ]
  },
  {
   "cell_type": "code",
   "execution_count": 5,
   "metadata": {},
   "outputs": [],
   "source": [
    "team_dict = {\n",
    "'265':'BAH',\n",
    "'288':'CRI',\n",
    "'267':'VAS',\n",
    "'290':'GOI',\n",
    "'314':'AVA',\n",
    "'317':'JEC',\n",
    "'262':'FLA',\n",
    "'263':'BOT',\n",
    "'264':'COR',\n",
    "'266':'FLU',\n",
    "'275':'PAL',\n",
    "'276':'SAO',\n",
    "'277':'SAN',\n",
    "'282':'CAM',\n",
    "'283':'CRU',\n",
    "'284':'GRE',\n",
    "'285':'INT',\n",
    "'287':'VIT',\n",
    "'292':'SPT',\n",
    "'293':'CAP',\n",
    "'294':'CFC',\n",
    "'303':'PON',\n",
    "'315':'CHA',\n",
    "'316':'FIG',\n",
    "'327':'AME',\n",
    "'344':'SCZ',\n",
    "'373':'ATL-GO'\n",
    "}"
   ]
  },
  {
   "cell_type": "code",
   "execution_count": null,
   "metadata": {},
   "outputs": [],
   "source": []
  },
  {
   "cell_type": "code",
   "execution_count": 6,
   "metadata": {},
   "outputs": [],
   "source": [
    "df = pd.read_csv('../db/final_features_calculated-2018-05-12.csv')"
   ]
  },
  {
   "cell_type": "code",
   "execution_count": 7,
   "metadata": {},
   "outputs": [],
   "source": [
    "df.Posicao.fillna('missing', inplace=True)"
   ]
  },
  {
   "cell_type": "code",
   "execution_count": 8,
   "metadata": {},
   "outputs": [],
   "source": [
    "df.fillna(0, inplace=True)"
   ]
  },
  {
   "cell_type": "code",
   "execution_count": 9,
   "metadata": {},
   "outputs": [],
   "source": [
    "df[['ClubeID', 'Jogos', 'ScoutID', 'Rodada', 'AtletaID']] = df[['ClubeID', 'Jogos', 'ScoutID', 'Rodada', 'AtletaID']].astype('Int64')"
   ]
  },
  {
   "cell_type": "code",
   "execution_count": 10,
   "metadata": {},
   "outputs": [
    {
     "data": {
      "text/plain": [
       "Unnamed: 0                              int64\n",
       "Unnamed: 0.1                            int64\n",
       "Unnamed: 0.1.1                          int64\n",
       "Unnamed: 0.1.1.1                        int64\n",
       "ScoutID                                 int64\n",
       "AtletaID                                int64\n",
       "Rodada                                  int64\n",
       "ClubeID                                 int64\n",
       "Participou                               bool\n",
       "Posicao                                object\n",
       "Jogos                                   int64\n",
       "Pontos                                float64\n",
       "PontosMedia                           float64\n",
       "Preco                                 float64\n",
       "PrecoVariacao                         float64\n",
       "FS                                    float64\n",
       "PE                                    float64\n",
       "A                                     float64\n",
       "FT                                    float64\n",
       "FD                                    float64\n",
       "FF                                    float64\n",
       "G                                     float64\n",
       "I                                     float64\n",
       "PP                                    float64\n",
       "RB                                    float64\n",
       "FC                                    float64\n",
       "GC                                    float64\n",
       "CA                                    float64\n",
       "CV                                    float64\n",
       "SG                                    float64\n",
       "                                       ...   \n",
       "CA_avg_enemy_home_last_10             float64\n",
       "CV_avg_enemy_home_last_10             float64\n",
       "SG_avg_enemy_home_last_10             float64\n",
       "DD_avg_enemy_home_last_10             float64\n",
       "DP_avg_enemy_home_last_10             float64\n",
       "GS_avg_enemy_home_last_10             float64\n",
       "Pontos_avg_enemy_home_last_10         float64\n",
       "Preco_avg_enemy_home_last_10          float64\n",
       "game_points_avg_enemy_home_last_10    float64\n",
       "FS_avg_enemy_home_last_5              float64\n",
       "PE_avg_enemy_home_last_5              float64\n",
       "A_avg_enemy_home_last_5               float64\n",
       "FT_avg_enemy_home_last_5              float64\n",
       "FD_avg_enemy_home_last_5              float64\n",
       "FF_avg_enemy_home_last_5              float64\n",
       "G_avg_enemy_home_last_5               float64\n",
       "I_avg_enemy_home_last_5               float64\n",
       "PP_avg_enemy_home_last_5              float64\n",
       "RB_avg_enemy_home_last_5              float64\n",
       "FC_avg_enemy_home_last_5              float64\n",
       "GC_avg_enemy_home_last_5              float64\n",
       "CA_avg_enemy_home_last_5              float64\n",
       "CV_avg_enemy_home_last_5              float64\n",
       "SG_avg_enemy_home_last_5              float64\n",
       "DD_avg_enemy_home_last_5              float64\n",
       "DP_avg_enemy_home_last_5              float64\n",
       "GS_avg_enemy_home_last_5              float64\n",
       "Pontos_avg_enemy_home_last_5          float64\n",
       "Preco_avg_enemy_home_last_5           float64\n",
       "game_points_avg_enemy_home_last_5     float64\n",
       "Length: 363, dtype: object"
      ]
     },
     "execution_count": 10,
     "metadata": {},
     "output_type": "execute_result"
    }
   ],
   "source": [
    "df.dtypes"
   ]
  },
  {
   "cell_type": "code",
   "execution_count": 11,
   "metadata": {},
   "outputs": [],
   "source": [
    "def hot_encode(df, col):\n",
    "    names = list(map(lambda x: str(x) , list(df[col].value_counts().index)))\n",
    "    values = np.array(df[col], dtype=np.str)\n",
    "    label_encoder = LabelEncoder()\n",
    "    integer_encoded = label_encoder.fit_transform(values)\n",
    "    onehot_encoder = OneHotEncoder(sparse=False)\n",
    "    integer_encoded = integer_encoded.reshape(len(integer_encoded), 1)\n",
    "    onehot_encoded = onehot_encoder.fit_transform(integer_encoded)\n",
    "    \n",
    "    return pd.concat([df, pd.DataFrame(onehot_encoded, columns=names)], axis=1)"
   ]
  },
  {
   "cell_type": "code",
   "execution_count": 12,
   "metadata": {},
   "outputs": [],
   "source": [
    "df = hot_encode(df, 'Posicao')\n",
    "df = hot_encode(df, 'ClubeID')\n",
    "df = hot_encode(df, 'Home')"
   ]
  },
  {
   "cell_type": "code",
   "execution_count": 13,
   "metadata": {},
   "outputs": [],
   "source": [
    "df.columns = list(map(lambda name: team_dict.get(name, name), df.columns))"
   ]
  },
  {
   "cell_type": "code",
   "execution_count": 14,
   "metadata": {},
   "outputs": [],
   "source": [
    "df = df.loc[~(df.target == -999)]"
   ]
  },
  {
   "cell_type": "code",
   "execution_count": 15,
   "metadata": {},
   "outputs": [],
   "source": [
    "df.drop(['Unnamed: 0', 'Unnamed: 0.1', 'Unnamed: 0.1.1', 'Unnamed: 0.1.1.1', 'ClubeID.1'], axis=1, inplace=True)"
   ]
  },
  {
   "cell_type": "code",
   "execution_count": 16,
   "metadata": {},
   "outputs": [
    {
     "name": "stdout",
     "output_type": "stream",
     "text": [
      "['ScoutID', 'AtletaID', 'Rodada', 'ClubeID', 'Participou', 'Posicao', 'Jogos', 'Pontos', 'PontosMedia', 'Preco', 'PrecoVariacao', 'FS', 'PE', 'A', 'FT', 'FD', 'FF', 'G', 'I', 'PP', 'RB', 'FC', 'GC', 'CA', 'CV', 'SG', 'DD', 'DP', 'GS', 'ano', 'Apelido', 'Status', 'mes', 'dia', 'home_score', 'away_score', 'ClubeCasa', 'ClubeVisitante', 'Home', 'result', 'is_next_same', 'target', 'game_points', 'FS_avg_last_20', 'PE_avg_last_20', 'A_avg_last_20', 'FT_avg_last_20', 'FD_avg_last_20', 'FF_avg_last_20', 'G_avg_last_20', 'I_avg_last_20', 'PP_avg_last_20', 'RB_avg_last_20', 'FC_avg_last_20', 'GC_avg_last_20', 'CA_avg_last_20', 'CV_avg_last_20', 'SG_avg_last_20', 'DD_avg_last_20', 'DP_avg_last_20', 'GS_avg_last_20', 'Pontos_avg_last_20', 'Preco_avg_last_20', 'game_points_avg_last_20', 'FS_avg_last_10', 'PE_avg_last_10', 'A_avg_last_10', 'FT_avg_last_10', 'FD_avg_last_10', 'FF_avg_last_10', 'G_avg_last_10', 'I_avg_last_10', 'PP_avg_last_10', 'RB_avg_last_10', 'FC_avg_last_10', 'GC_avg_last_10', 'CA_avg_last_10', 'CV_avg_last_10', 'SG_avg_last_10', 'DD_avg_last_10', 'DP_avg_last_10', 'GS_avg_last_10', 'Pontos_avg_last_10', 'Preco_avg_last_10', 'game_points_avg_last_10', 'FS_avg_last_5', 'PE_avg_last_5', 'A_avg_last_5', 'FT_avg_last_5', 'FD_avg_last_5', 'FF_avg_last_5', 'G_avg_last_5', 'I_avg_last_5', 'PP_avg_last_5', 'RB_avg_last_5', 'FC_avg_last_5', 'GC_avg_last_5', 'CA_avg_last_5', 'CV_avg_last_5', 'SG_avg_last_5', 'DD_avg_last_5', 'DP_avg_last_5', 'GS_avg_last_5', 'Pontos_avg_last_5', 'Preco_avg_last_5', 'game_points_avg_last_5', 'FS_avg_home_last_20', 'PE_avg_home_last_20', 'A_avg_home_last_20', 'FT_avg_home_last_20', 'FD_avg_home_last_20', 'FF_avg_home_last_20', 'G_avg_home_last_20', 'I_avg_home_last_20', 'PP_avg_home_last_20', 'RB_avg_home_last_20', 'FC_avg_home_last_20', 'GC_avg_home_last_20', 'CA_avg_home_last_20', 'CV_avg_home_last_20', 'SG_avg_home_last_20', 'DD_avg_home_last_20', 'DP_avg_home_last_20', 'GS_avg_home_last_20', 'Pontos_avg_home_last_20', 'Preco_avg_home_last_20', 'game_points_avg_home_last_20', 'FS_avg_home_last_10', 'PE_avg_home_last_10', 'A_avg_home_last_10', 'FT_avg_home_last_10', 'FD_avg_home_last_10', 'FF_avg_home_last_10', 'G_avg_home_last_10', 'I_avg_home_last_10', 'PP_avg_home_last_10', 'RB_avg_home_last_10', 'FC_avg_home_last_10', 'GC_avg_home_last_10', 'CA_avg_home_last_10', 'CV_avg_home_last_10', 'SG_avg_home_last_10', 'DD_avg_home_last_10', 'DP_avg_home_last_10', 'GS_avg_home_last_10', 'Pontos_avg_home_last_10', 'Preco_avg_home_last_10', 'game_points_avg_home_last_10', 'FS_avg_home_last_5', 'PE_avg_home_last_5', 'A_avg_home_last_5', 'FT_avg_home_last_5', 'FD_avg_home_last_5', 'FF_avg_home_last_5', 'G_avg_home_last_5', 'I_avg_home_last_5', 'PP_avg_home_last_5', 'RB_avg_home_last_5', 'FC_avg_home_last_5', 'GC_avg_home_last_5', 'CA_avg_home_last_5', 'CV_avg_home_last_5', 'SG_avg_home_last_5', 'DD_avg_home_last_5', 'DP_avg_home_last_5', 'GS_avg_home_last_5', 'Pontos_avg_home_last_5', 'Preco_avg_home_last_5', 'game_points_avg_home_last_5', 'FS_avg_team_home_last_20', 'PE_avg_team_home_last_20', 'A_avg_team_home_last_20', 'FT_avg_team_home_last_20', 'FD_avg_team_home_last_20', 'FF_avg_team_home_last_20', 'G_avg_team_home_last_20', 'I_avg_team_home_last_20', 'PP_avg_team_home_last_20', 'RB_avg_team_home_last_20', 'FC_avg_team_home_last_20', 'GC_avg_team_home_last_20', 'CA_avg_team_home_last_20', 'CV_avg_team_home_last_20', 'SG_avg_team_home_last_20', 'DD_avg_team_home_last_20', 'DP_avg_team_home_last_20', 'GS_avg_team_home_last_20', 'Pontos_avg_team_home_last_20', 'Preco_avg_team_home_last_20', 'game_points_avg_team_home_last_20', 'FS_avg_team_home_last_10', 'PE_avg_team_home_last_10', 'A_avg_team_home_last_10', 'FT_avg_team_home_last_10', 'FD_avg_team_home_last_10', 'FF_avg_team_home_last_10', 'G_avg_team_home_last_10', 'I_avg_team_home_last_10', 'PP_avg_team_home_last_10', 'RB_avg_team_home_last_10', 'FC_avg_team_home_last_10', 'GC_avg_team_home_last_10', 'CA_avg_team_home_last_10', 'CV_avg_team_home_last_10', 'SG_avg_team_home_last_10', 'DD_avg_team_home_last_10', 'DP_avg_team_home_last_10', 'GS_avg_team_home_last_10', 'Pontos_avg_team_home_last_10', 'Preco_avg_team_home_last_10', 'game_points_avg_team_home_last_10', 'FS_avg_team_home_last_5', 'PE_avg_team_home_last_5', 'A_avg_team_home_last_5', 'FT_avg_team_home_last_5', 'FD_avg_team_home_last_5', 'FF_avg_team_home_last_5', 'G_avg_team_home_last_5', 'I_avg_team_home_last_5', 'PP_avg_team_home_last_5', 'RB_avg_team_home_last_5', 'FC_avg_team_home_last_5', 'GC_avg_team_home_last_5', 'CA_avg_team_home_last_5', 'CV_avg_team_home_last_5', 'SG_avg_team_home_last_5', 'DD_avg_team_home_last_5', 'DP_avg_team_home_last_5', 'GS_avg_team_home_last_5', 'Pontos_avg_team_home_last_5', 'Preco_avg_team_home_last_5', 'game_points_avg_team_home_last_5', 'FS_avg_pos_home_last_20', 'PE_avg_pos_home_last_20', 'A_avg_pos_home_last_20', 'FT_avg_pos_home_last_20', 'FD_avg_pos_home_last_20', 'FF_avg_pos_home_last_20', 'G_avg_pos_home_last_20', 'I_avg_pos_home_last_20', 'PP_avg_pos_home_last_20', 'RB_avg_pos_home_last_20', 'FC_avg_pos_home_last_20', 'GC_avg_pos_home_last_20', 'CA_avg_pos_home_last_20', 'CV_avg_pos_home_last_20', 'SG_avg_pos_home_last_20', 'DD_avg_pos_home_last_20', 'DP_avg_pos_home_last_20', 'GS_avg_pos_home_last_20', 'Pontos_avg_pos_home_last_20', 'Preco_avg_pos_home_last_20', 'game_points_avg_pos_home_last_20', 'FS_avg_pos_home_last_10', 'PE_avg_pos_home_last_10', 'A_avg_pos_home_last_10', 'FT_avg_pos_home_last_10', 'FD_avg_pos_home_last_10', 'FF_avg_pos_home_last_10', 'G_avg_pos_home_last_10', 'I_avg_pos_home_last_10', 'PP_avg_pos_home_last_10', 'RB_avg_pos_home_last_10', 'FC_avg_pos_home_last_10', 'GC_avg_pos_home_last_10', 'CA_avg_pos_home_last_10', 'CV_avg_pos_home_last_10', 'SG_avg_pos_home_last_10', 'DD_avg_pos_home_last_10', 'DP_avg_pos_home_last_10', 'GS_avg_pos_home_last_10', 'Pontos_avg_pos_home_last_10', 'Preco_avg_pos_home_last_10', 'game_points_avg_pos_home_last_10', 'FS_avg_pos_home_last_5', 'PE_avg_pos_home_last_5', 'A_avg_pos_home_last_5', 'FT_avg_pos_home_last_5', 'FD_avg_pos_home_last_5', 'FF_avg_pos_home_last_5', 'G_avg_pos_home_last_5', 'I_avg_pos_home_last_5', 'PP_avg_pos_home_last_5', 'RB_avg_pos_home_last_5', 'FC_avg_pos_home_last_5', 'GC_avg_pos_home_last_5', 'CA_avg_pos_home_last_5', 'CV_avg_pos_home_last_5', 'SG_avg_pos_home_last_5', 'DD_avg_pos_home_last_5', 'DP_avg_pos_home_last_5', 'GS_avg_pos_home_last_5', 'Pontos_avg_pos_home_last_5', 'Preco_avg_pos_home_last_5', 'game_points_avg_pos_home_last_5', 'FS_avg_enemy_home_last_20', 'PE_avg_enemy_home_last_20', 'A_avg_enemy_home_last_20', 'FT_avg_enemy_home_last_20', 'FD_avg_enemy_home_last_20', 'FF_avg_enemy_home_last_20', 'G_avg_enemy_home_last_20', 'I_avg_enemy_home_last_20', 'PP_avg_enemy_home_last_20', 'RB_avg_enemy_home_last_20', 'FC_avg_enemy_home_last_20', 'GC_avg_enemy_home_last_20', 'CA_avg_enemy_home_last_20', 'CV_avg_enemy_home_last_20', 'SG_avg_enemy_home_last_20', 'DD_avg_enemy_home_last_20', 'DP_avg_enemy_home_last_20', 'GS_avg_enemy_home_last_20', 'Pontos_avg_enemy_home_last_20', 'Preco_avg_enemy_home_last_20', 'game_points_avg_enemy_home_last_20', 'FS_avg_enemy_home_last_10', 'PE_avg_enemy_home_last_10', 'A_avg_enemy_home_last_10', 'FT_avg_enemy_home_last_10', 'FD_avg_enemy_home_last_10', 'FF_avg_enemy_home_last_10', 'G_avg_enemy_home_last_10', 'I_avg_enemy_home_last_10', 'PP_avg_enemy_home_last_10', 'RB_avg_enemy_home_last_10', 'FC_avg_enemy_home_last_10', 'GC_avg_enemy_home_last_10', 'CA_avg_enemy_home_last_10', 'CV_avg_enemy_home_last_10', 'SG_avg_enemy_home_last_10', 'DD_avg_enemy_home_last_10', 'DP_avg_enemy_home_last_10', 'GS_avg_enemy_home_last_10', 'Pontos_avg_enemy_home_last_10', 'Preco_avg_enemy_home_last_10', 'game_points_avg_enemy_home_last_10', 'FS_avg_enemy_home_last_5', 'PE_avg_enemy_home_last_5', 'A_avg_enemy_home_last_5', 'FT_avg_enemy_home_last_5', 'FD_avg_enemy_home_last_5', 'FF_avg_enemy_home_last_5', 'G_avg_enemy_home_last_5', 'I_avg_enemy_home_last_5', 'PP_avg_enemy_home_last_5', 'RB_avg_enemy_home_last_5', 'FC_avg_enemy_home_last_5', 'GC_avg_enemy_home_last_5', 'CA_avg_enemy_home_last_5', 'CV_avg_enemy_home_last_5', 'SG_avg_enemy_home_last_5', 'DD_avg_enemy_home_last_5', 'DP_avg_enemy_home_last_5', 'GS_avg_enemy_home_last_5', 'Pontos_avg_enemy_home_last_5', 'Preco_avg_enemy_home_last_5', 'game_points_avg_enemy_home_last_5', 'mei', 'missing', 'ata', 'lat', 'zag', 'gol', 'GRE', 'SAO', 'FLA', 'COR', 'PAL', 'CFC', 'CRU', 'CAP', 'SAN', 'SPT', 'FLU', 'CHA', 'CAM', 'INT', 'FIG', 'VIT', 'BOT', 'PON', 'GOI', 'BAH', 'VAS', 'AVA', 'JEC', 'SCZ', 'CRI', 'AME', 'ATL-GO', 'True', 'False']\n"
     ]
    }
   ],
   "source": [
    "print(list(df.columns))"
   ]
  },
  {
   "cell_type": "code",
   "execution_count": 17,
   "metadata": {},
   "outputs": [],
   "source": [
    "df_train = df.loc[(~((df.ano == 2017) & (df.Rodada > 15)))]\n",
    "df_test = df.loc[(df.ano == 2017) & (df.Rodada > 15)]"
   ]
  },
  {
   "cell_type": "code",
   "execution_count": 18,
   "metadata": {},
   "outputs": [],
   "source": [
    "from sklearn.model_selection import KFold\n",
    "\n",
    "def KFold_CrossValidation(num_splits, data, model, target, features):\n",
    "    X = data.drop([target])\n",
    "    y = data[target].values\n",
    "    kf = KFold(n_splits=num_splits)\n",
    "    eval_cv = pd.DataFrame()\n",
    "    for train_index, test_index in kf.split(X):\n",
    "        X_train, X_test = X[train_index][features], X[test_index][features]\n",
    "        y_train, y_test = y[train_index], y[test_index]\n",
    "        print(X_train.shape, X_test.shape)\n",
    "        print('Starting fit')\n",
    "        predict_fn = model.fit(X_train, y_train).predict\n",
    "        predicted = predict_fn(X_test)\n",
    "        eval_df = pd.concat([df_test.reset_index(drop=True), pd.DataFrame(predicted, dtype=np.float, columns=['prediction'])])\n",
    "        eval_metric = get_average_metrics(eval_df, target,'prediction')\n",
    "        eval_cv = pd.concat([eval_cv, eval_metric])\n",
    "    return eval_cv"
   ]
  },
  {
   "cell_type": "code",
   "execution_count": 38,
   "metadata": {},
   "outputs": [],
   "source": [
    "def grid_search(data, holdout_data, model, params_dict, scoring, target, features, num_folds=3):\n",
    "    clf = GridSearchCV(model, params_dict, scoring=scoring, cv=num_folds, verbose=3)\n",
    "    print('Starting fit')\n",
    "    clf.fit(data[features], data[target].values)\n",
    "    estimator = clf.best_estimator_\n",
    "    params = clf.best_params_\n",
    "    return clf, estimator, params\n",
    "#     predicted = predict_fn(holdout_data[features])\n",
    "#     eval_df = pd.concat([df_test.reset_index(drop=True), pd.DataFrame(predicted, dtype=np.float, columns=['prediction'])], axis=1)\n",
    "#     eval_metric = get_average_metrics(eval_df, target, 'prediction')\n",
    "    \n",
    "#     return eval_df, predict_fn, params, eval_metric"
   ]
  },
  {
   "cell_type": "code",
   "execution_count": 20,
   "metadata": {},
   "outputs": [],
   "source": [
    "def final_train(data, model, target, features):\n",
    "    df_train = df.loc[(~((df.ano == 2017) & (df.Rodada > 15)))]\n",
    "    df_test = df.loc[(df.ano == 2017) & (df.Rodada > 15)]\n",
    "    X_train, y_train = df_train.drop([target], axis=1)[features], df_train[target].values\n",
    "    X_test, y_test = df_test.drop([target],axis=1)[features], df_test[target].values\n",
    "    print('Starting fit')\n",
    "    predict_fn = model.fit(X_train, y_train).predict\n",
    "    predicted = predict_fn(X_test)\n",
    "    eval_df = pd.concat([df_test.reset_index(drop=True), pd.DataFrame(predicted, dtype=np.float, columns=['prediction'])], axis=1)\n",
    "    eval_metric = get_average_metrics(eval_df, target, 'prediction')\n",
    "    return eval_df, predict_fn, eval_metric"
   ]
  },
  {
   "cell_type": "markdown",
   "metadata": {},
   "source": [
    "## XGBoost"
   ]
  },
  {
   "cell_type": "code",
   "execution_count": 52,
   "metadata": {},
   "outputs": [],
   "source": [
    "# Initialize XGB and GridSearch\n",
    "xgb = XGBRegressor(nthread=-1, learning_rate=XGB_LEARNING_RATE, n_estimators=XGB_NUM_ESTIMATORS, **XGB_EXTRA_PARAMS) \n"
   ]
  },
  {
   "cell_type": "code",
   "execution_count": 53,
   "metadata": {},
   "outputs": [
    {
     "data": {
      "text/plain": [
       "{'base_score': 0.5,\n",
       " 'booster': 'gbtree',\n",
       " 'colsample_by_level': 0.5,\n",
       " 'colsample_bylevel': 1,\n",
       " 'colsample_bytree': 0.5,\n",
       " 'gamma': 0,\n",
       " 'learning_rate': 0.01,\n",
       " 'max_delta_step': 0,\n",
       " 'max_depth': 7,\n",
       " 'min_child_weight': 1,\n",
       " 'missing': None,\n",
       " 'n_estimators': 3000,\n",
       " 'objective': 'reg:linear',\n",
       " 'reg_alpha': 0,\n",
       " 'reg_lambda': 1,\n",
       " 'scale_pos_weight': 1,\n",
       " 'seed': 43,\n",
       " 'silent': 1,\n",
       " 'subsample': 0.7}"
      ]
     },
     "execution_count": 53,
     "metadata": {},
     "output_type": "execute_result"
    }
   ],
   "source": [
    "xgb.get_xgb_params()"
   ]
  },
  {
   "cell_type": "code",
   "execution_count": 54,
   "metadata": {},
   "outputs": [
    {
     "name": "stdout",
     "output_type": "stream",
     "text": [
      "Starting fit\n"
     ]
    }
   ],
   "source": [
    "eval_xgb, xgb_predict, _ = final_train(df, xgb, TARGET, FEATURES)"
   ]
  },
  {
   "cell_type": "code",
   "execution_count": 55,
   "metadata": {},
   "outputs": [
    {
     "data": {
      "text/html": [
       "<div>\n",
       "<style scoped>\n",
       "    .dataframe tbody tr th:only-of-type {\n",
       "        vertical-align: middle;\n",
       "    }\n",
       "\n",
       "    .dataframe tbody tr th {\n",
       "        vertical-align: top;\n",
       "    }\n",
       "\n",
       "    .dataframe thead th {\n",
       "        text-align: right;\n",
       "    }\n",
       "</style>\n",
       "<table border=\"1\" class=\"dataframe\">\n",
       "  <thead>\n",
       "    <tr style=\"text-align: right;\">\n",
       "      <th></th>\n",
       "      <th>pred_sum</th>\n",
       "      <th>pred_avg</th>\n",
       "      <th>pred_dev</th>\n",
       "      <th>desired_sum</th>\n",
       "      <th>desired_avg</th>\n",
       "      <th>desired_dev</th>\n",
       "      <th>explained_variance</th>\n",
       "      <th>mean_abs_error</th>\n",
       "      <th>root_mean_sqrt_error</th>\n",
       "      <th>median_abs_error</th>\n",
       "      <th>r2_score</th>\n",
       "    </tr>\n",
       "  </thead>\n",
       "  <tbody>\n",
       "    <tr>\n",
       "      <th>0</th>\n",
       "      <td>4692.278994</td>\n",
       "      <td>2.875171</td>\n",
       "      <td>1.149714</td>\n",
       "      <td>4909.8</td>\n",
       "      <td>3.008456</td>\n",
       "      <td>4.205884</td>\n",
       "      <td>-0.009577</td>\n",
       "      <td>3.244436</td>\n",
       "      <td>4.228077</td>\n",
       "      <td>2.626557</td>\n",
       "      <td>-0.010581</td>\n",
       "    </tr>\n",
       "  </tbody>\n",
       "</table>\n",
       "</div>"
      ],
      "text/plain": [
       "      pred_sum  pred_avg  pred_dev  desired_sum  desired_avg  desired_dev  \\\n",
       "0  4692.278994  2.875171  1.149714       4909.8     3.008456     4.205884   \n",
       "\n",
       "   explained_variance  mean_abs_error  root_mean_sqrt_error  median_abs_error  \\\n",
       "0           -0.009577        3.244436              4.228077          2.626557   \n",
       "\n",
       "   r2_score  \n",
       "0 -0.010581  "
      ]
     },
     "execution_count": 55,
     "metadata": {},
     "output_type": "execute_result"
    }
   ],
   "source": [
    "get_average_metrics(eval_xgb, 'target', 'prediction')"
   ]
  },
  {
   "cell_type": "markdown",
   "metadata": {},
   "source": [
    "## Linear Regression"
   ]
  },
  {
   "cell_type": "code",
   "execution_count": 56,
   "metadata": {},
   "outputs": [],
   "source": [
    "lin_reg = LinearRegression(normalize=True)"
   ]
  },
  {
   "cell_type": "code",
   "execution_count": 57,
   "metadata": {},
   "outputs": [
    {
     "name": "stdout",
     "output_type": "stream",
     "text": [
      "Starting fit\n"
     ]
    }
   ],
   "source": [
    "eval_lin, lin_reg__predict, _ = final_train(df, lin_reg, TARGET, FEATURES)"
   ]
  },
  {
   "cell_type": "code",
   "execution_count": 58,
   "metadata": {},
   "outputs": [
    {
     "data": {
      "text/html": [
       "<div>\n",
       "<style scoped>\n",
       "    .dataframe tbody tr th:only-of-type {\n",
       "        vertical-align: middle;\n",
       "    }\n",
       "\n",
       "    .dataframe tbody tr th {\n",
       "        vertical-align: top;\n",
       "    }\n",
       "\n",
       "    .dataframe thead th {\n",
       "        text-align: right;\n",
       "    }\n",
       "</style>\n",
       "<table border=\"1\" class=\"dataframe\">\n",
       "  <thead>\n",
       "    <tr style=\"text-align: right;\">\n",
       "      <th></th>\n",
       "      <th>pred_sum</th>\n",
       "      <th>pred_avg</th>\n",
       "      <th>pred_dev</th>\n",
       "      <th>desired_sum</th>\n",
       "      <th>desired_avg</th>\n",
       "      <th>desired_dev</th>\n",
       "      <th>explained_variance</th>\n",
       "      <th>mean_abs_error</th>\n",
       "      <th>root_mean_sqrt_error</th>\n",
       "      <th>median_abs_error</th>\n",
       "      <th>r2_score</th>\n",
       "    </tr>\n",
       "  </thead>\n",
       "  <tbody>\n",
       "    <tr>\n",
       "      <th>0</th>\n",
       "      <td>4493.624512</td>\n",
       "      <td>2.753446</td>\n",
       "      <td>0.909069</td>\n",
       "      <td>4909.8</td>\n",
       "      <td>3.008456</td>\n",
       "      <td>4.205884</td>\n",
       "      <td>0.014333</td>\n",
       "      <td>3.210082</td>\n",
       "      <td>4.183413</td>\n",
       "      <td>2.656274</td>\n",
       "      <td>0.010657</td>\n",
       "    </tr>\n",
       "  </tbody>\n",
       "</table>\n",
       "</div>"
      ],
      "text/plain": [
       "      pred_sum  pred_avg  pred_dev  desired_sum  desired_avg  desired_dev  \\\n",
       "0  4493.624512  2.753446  0.909069       4909.8     3.008456     4.205884   \n",
       "\n",
       "   explained_variance  mean_abs_error  root_mean_sqrt_error  median_abs_error  \\\n",
       "0            0.014333        3.210082              4.183413          2.656274   \n",
       "\n",
       "   r2_score  \n",
       "0  0.010657  "
      ]
     },
     "execution_count": 58,
     "metadata": {},
     "output_type": "execute_result"
    }
   ],
   "source": [
    "get_average_metrics(eval_lin, 'target', 'prediction')"
   ]
  },
  {
   "cell_type": "markdown",
   "metadata": {},
   "source": [
    "## KNN"
   ]
  },
  {
   "cell_type": "code",
   "execution_count": 42,
   "metadata": {},
   "outputs": [],
   "source": [
    "knn_grid_params = {\"n_neighbors\" : [10, 50, 100, 150, 200], \"weights\" : [\"uniform\", \"distance\"], \"p\": [1,2,3], \"n_jobs\" : [-1]}"
   ]
  },
  {
   "cell_type": "code",
   "execution_count": 50,
   "metadata": {},
   "outputs": [],
   "source": [
    "knn = KNeighborsRegressor(n_neighbors=200 , p=1, weights=\"distance\")"
   ]
  },
  {
   "cell_type": "code",
   "execution_count": 44,
   "metadata": {},
   "outputs": [
    {
     "name": "stdout",
     "output_type": "stream",
     "text": [
      "Starting fit\n",
      "Fitting 3 folds for each of 30 candidates, totalling 90 fits\n",
      "[CV] n_jobs=-1, n_neighbors=10, p=1, weights=uniform .................\n",
      "[CV]  n_jobs=-1, n_neighbors=10, p=1, weights=uniform, score=-0.07433085465570288, total=  25.8s\n",
      "[CV] n_jobs=-1, n_neighbors=10, p=1, weights=uniform .................\n"
     ]
    },
    {
     "name": "stderr",
     "output_type": "stream",
     "text": [
      "[Parallel(n_jobs=1)]: Done   1 out of   1 | elapsed:  1.2min remaining:    0.0s\n"
     ]
    },
    {
     "name": "stdout",
     "output_type": "stream",
     "text": [
      "[CV]  n_jobs=-1, n_neighbors=10, p=1, weights=uniform, score=-0.040470495938676576, total=  24.8s\n",
      "[CV] n_jobs=-1, n_neighbors=10, p=1, weights=uniform .................\n"
     ]
    },
    {
     "name": "stderr",
     "output_type": "stream",
     "text": [
      "[Parallel(n_jobs=1)]: Done   2 out of   2 | elapsed:  2.4min remaining:    0.0s\n"
     ]
    },
    {
     "name": "stdout",
     "output_type": "stream",
     "text": [
      "[CV]  n_jobs=-1, n_neighbors=10, p=1, weights=uniform, score=-0.05860049781707999, total=  26.4s\n",
      "[CV] n_jobs=-1, n_neighbors=10, p=1, weights=distance ................\n",
      "[CV]  n_jobs=-1, n_neighbors=10, p=1, weights=distance, score=-0.07440158205257386, total=  23.6s\n",
      "[CV] n_jobs=-1, n_neighbors=10, p=1, weights=distance ................\n",
      "[CV]  n_jobs=-1, n_neighbors=10, p=1, weights=distance, score=-0.04157999565176573, total=  23.5s\n",
      "[CV] n_jobs=-1, n_neighbors=10, p=1, weights=distance ................\n",
      "[CV]  n_jobs=-1, n_neighbors=10, p=1, weights=distance, score=-0.059071168006296526, total=  24.6s\n",
      "[CV] n_jobs=-1, n_neighbors=10, p=2, weights=uniform .................\n",
      "[CV]  n_jobs=-1, n_neighbors=10, p=2, weights=uniform, score=-0.0788643277739034, total=  11.6s\n",
      "[CV] n_jobs=-1, n_neighbors=10, p=2, weights=uniform .................\n",
      "[CV]  n_jobs=-1, n_neighbors=10, p=2, weights=uniform, score=-0.05500967728306039, total=  11.5s\n",
      "[CV] n_jobs=-1, n_neighbors=10, p=2, weights=uniform .................\n",
      "[CV]  n_jobs=-1, n_neighbors=10, p=2, weights=uniform, score=-0.06917798719447621, total=  11.7s\n",
      "[CV] n_jobs=-1, n_neighbors=10, p=2, weights=distance ................\n",
      "[CV]  n_jobs=-1, n_neighbors=10, p=2, weights=distance, score=-0.07824990946322385, total=  11.3s\n",
      "[CV] n_jobs=-1, n_neighbors=10, p=2, weights=distance ................\n",
      "[CV]  n_jobs=-1, n_neighbors=10, p=2, weights=distance, score=-0.05545988925357137, total=  11.4s\n",
      "[CV] n_jobs=-1, n_neighbors=10, p=2, weights=distance ................\n",
      "[CV]  n_jobs=-1, n_neighbors=10, p=2, weights=distance, score=-0.06933730923259862, total=  11.5s\n",
      "[CV] n_jobs=-1, n_neighbors=10, p=3, weights=uniform .................\n",
      "[CV]  n_jobs=-1, n_neighbors=10, p=3, weights=uniform, score=-0.07559796949002195, total= 1.1min\n",
      "[CV] n_jobs=-1, n_neighbors=10, p=3, weights=uniform .................\n",
      "[CV]  n_jobs=-1, n_neighbors=10, p=3, weights=uniform, score=-0.06056378492094461, total= 1.1min\n",
      "[CV] n_jobs=-1, n_neighbors=10, p=3, weights=uniform .................\n",
      "[CV]  n_jobs=-1, n_neighbors=10, p=3, weights=uniform, score=-0.07180021437781381, total= 1.2min\n",
      "[CV] n_jobs=-1, n_neighbors=10, p=3, weights=distance ................\n",
      "[CV]  n_jobs=-1, n_neighbors=10, p=3, weights=distance, score=-0.07581346161899516, total= 1.1min\n",
      "[CV] n_jobs=-1, n_neighbors=10, p=3, weights=distance ................\n",
      "[CV]  n_jobs=-1, n_neighbors=10, p=3, weights=distance, score=-0.06073410832259918, total= 1.2min\n",
      "[CV] n_jobs=-1, n_neighbors=10, p=3, weights=distance ................\n",
      "[CV]  n_jobs=-1, n_neighbors=10, p=3, weights=distance, score=-0.07190360234042603, total= 1.1min\n",
      "[CV] n_jobs=-1, n_neighbors=50, p=1, weights=uniform .................\n",
      "[CV]  n_jobs=-1, n_neighbors=50, p=1, weights=uniform, score=0.002092713125188883, total=  25.6s\n",
      "[CV] n_jobs=-1, n_neighbors=50, p=1, weights=uniform .................\n",
      "[CV]  n_jobs=-1, n_neighbors=50, p=1, weights=uniform, score=0.020192914793394023, total=  25.7s\n",
      "[CV] n_jobs=-1, n_neighbors=50, p=1, weights=uniform .................\n",
      "[CV]  n_jobs=-1, n_neighbors=50, p=1, weights=uniform, score=-0.0010862836816074584, total=  25.0s\n",
      "[CV] n_jobs=-1, n_neighbors=50, p=1, weights=distance ................\n",
      "[CV]  n_jobs=-1, n_neighbors=50, p=1, weights=distance, score=0.002549381050306665, total=  25.1s\n",
      "[CV] n_jobs=-1, n_neighbors=50, p=1, weights=distance ................\n",
      "[CV]  n_jobs=-1, n_neighbors=50, p=1, weights=distance, score=0.020679203528711665, total=  24.4s\n",
      "[CV] n_jobs=-1, n_neighbors=50, p=1, weights=distance ................\n",
      "[CV]  n_jobs=-1, n_neighbors=50, p=1, weights=distance, score=-0.000683715546340391, total=83.4min\n",
      "[CV] n_jobs=-1, n_neighbors=50, p=2, weights=uniform .................\n",
      "[CV]  n_jobs=-1, n_neighbors=50, p=2, weights=uniform, score=6.404300060303125e-05, total=  17.2s\n",
      "[CV] n_jobs=-1, n_neighbors=50, p=2, weights=uniform .................\n",
      "[CV]  n_jobs=-1, n_neighbors=50, p=2, weights=uniform, score=0.01440899859188327, total=  12.9s\n",
      "[CV] n_jobs=-1, n_neighbors=50, p=2, weights=uniform .................\n",
      "[CV]  n_jobs=-1, n_neighbors=50, p=2, weights=uniform, score=-0.007879481217610174, total=  13.6s\n",
      "[CV] n_jobs=-1, n_neighbors=50, p=2, weights=distance ................\n",
      "[CV]  n_jobs=-1, n_neighbors=50, p=2, weights=distance, score=9.684561336475994e-05, total=  12.9s\n",
      "[CV] n_jobs=-1, n_neighbors=50, p=2, weights=distance ................\n",
      "[CV]  n_jobs=-1, n_neighbors=50, p=2, weights=distance, score=0.014716249733197184, total=  12.6s\n",
      "[CV] n_jobs=-1, n_neighbors=50, p=2, weights=distance ................\n",
      "[CV]  n_jobs=-1, n_neighbors=50, p=2, weights=distance, score=-0.007653569649322511, total=  13.0s\n",
      "[CV] n_jobs=-1, n_neighbors=50, p=3, weights=uniform .................\n",
      "[CV]  n_jobs=-1, n_neighbors=50, p=3, weights=uniform, score=-0.0017612840513487882, total= 1.3min\n",
      "[CV] n_jobs=-1, n_neighbors=50, p=3, weights=uniform .................\n",
      "[CV]  n_jobs=-1, n_neighbors=50, p=3, weights=uniform, score=0.0110627538600101, total= 1.3min\n",
      "[CV] n_jobs=-1, n_neighbors=50, p=3, weights=uniform .................\n",
      "[CV]  n_jobs=-1, n_neighbors=50, p=3, weights=uniform, score=-0.011489769570885544, total= 1.4min\n",
      "[CV] n_jobs=-1, n_neighbors=50, p=3, weights=distance ................\n",
      "[CV]  n_jobs=-1, n_neighbors=50, p=3, weights=distance, score=-0.00160415602805708, total= 1.4min\n",
      "[CV] n_jobs=-1, n_neighbors=50, p=3, weights=distance ................\n",
      "[CV]  n_jobs=-1, n_neighbors=50, p=3, weights=distance, score=0.011352865836214088, total= 1.4min\n",
      "[CV] n_jobs=-1, n_neighbors=50, p=3, weights=distance ................\n",
      "[CV]  n_jobs=-1, n_neighbors=50, p=3, weights=distance, score=-0.011166704994308496, total= 1.4min\n",
      "[CV] n_jobs=-1, n_neighbors=100, p=1, weights=uniform ................\n",
      "[CV]  n_jobs=-1, n_neighbors=100, p=1, weights=uniform, score=0.012039746881305269, total=  26.1s\n",
      "[CV] n_jobs=-1, n_neighbors=100, p=1, weights=uniform ................\n",
      "[CV]  n_jobs=-1, n_neighbors=100, p=1, weights=uniform, score=0.02625769699073932, total=  31.9s\n",
      "[CV] n_jobs=-1, n_neighbors=100, p=1, weights=uniform ................\n",
      "[CV]  n_jobs=-1, n_neighbors=100, p=1, weights=uniform, score=0.003884411092406892, total=  27.6s\n",
      "[CV] n_jobs=-1, n_neighbors=100, p=1, weights=distance ...............\n",
      "[CV]  n_jobs=-1, n_neighbors=100, p=1, weights=distance, score=0.012277615667386721, total=  27.6s\n",
      "[CV] n_jobs=-1, n_neighbors=100, p=1, weights=distance ...............\n",
      "[CV]  n_jobs=-1, n_neighbors=100, p=1, weights=distance, score=0.026750802057443512, total=  25.9s\n",
      "[CV] n_jobs=-1, n_neighbors=100, p=1, weights=distance ...............\n",
      "[CV]  n_jobs=-1, n_neighbors=100, p=1, weights=distance, score=0.0043397321462194105, total=  25.8s\n",
      "[CV] n_jobs=-1, n_neighbors=100, p=2, weights=uniform ................\n",
      "[CV]  n_jobs=-1, n_neighbors=100, p=2, weights=uniform, score=0.005808958911867168, total=  16.5s\n",
      "[CV] n_jobs=-1, n_neighbors=100, p=2, weights=uniform ................\n",
      "[CV]  n_jobs=-1, n_neighbors=100, p=2, weights=uniform, score=0.022994976576251602, total=  14.4s\n",
      "[CV] n_jobs=-1, n_neighbors=100, p=2, weights=uniform ................\n",
      "[CV]  n_jobs=-1, n_neighbors=100, p=2, weights=uniform, score=-0.002275170456948805, total=  14.7s\n",
      "[CV] n_jobs=-1, n_neighbors=100, p=2, weights=distance ...............\n",
      "[CV]  n_jobs=-1, n_neighbors=100, p=2, weights=distance, score=0.00606518937070244, total=  14.7s\n",
      "[CV] n_jobs=-1, n_neighbors=100, p=2, weights=distance ...............\n",
      "[CV]  n_jobs=-1, n_neighbors=100, p=2, weights=distance, score=0.023199573210935576, total=  14.4s\n",
      "[CV] n_jobs=-1, n_neighbors=100, p=2, weights=distance ...............\n",
      "[CV]  n_jobs=-1, n_neighbors=100, p=2, weights=distance, score=-0.001968125268906107, total=  14.8s\n",
      "[CV] n_jobs=-1, n_neighbors=100, p=3, weights=uniform ................\n",
      "[CV]  n_jobs=-1, n_neighbors=100, p=3, weights=uniform, score=0.006359900411466168, total= 1.6min\n",
      "[CV] n_jobs=-1, n_neighbors=100, p=3, weights=uniform ................\n",
      "[CV]  n_jobs=-1, n_neighbors=100, p=3, weights=uniform, score=0.019166645043384722, total= 1.6min\n",
      "[CV] n_jobs=-1, n_neighbors=100, p=3, weights=uniform ................\n",
      "[CV]  n_jobs=-1, n_neighbors=100, p=3, weights=uniform, score=-0.002611965083544776, total= 1.6min\n",
      "[CV] n_jobs=-1, n_neighbors=100, p=3, weights=distance ...............\n"
     ]
    },
    {
     "name": "stdout",
     "output_type": "stream",
     "text": [
      "[CV]  n_jobs=-1, n_neighbors=100, p=3, weights=distance, score=0.0066141663668241035, total= 1.5min\n",
      "[CV] n_jobs=-1, n_neighbors=100, p=3, weights=distance ...............\n",
      "[CV]  n_jobs=-1, n_neighbors=100, p=3, weights=distance, score=0.0194474436315758, total= 1.5min\n",
      "[CV] n_jobs=-1, n_neighbors=100, p=3, weights=distance ...............\n",
      "[CV]  n_jobs=-1, n_neighbors=100, p=3, weights=distance, score=-0.002401390314642038, total= 1.6min\n",
      "[CV] n_jobs=-1, n_neighbors=150, p=1, weights=uniform ................\n",
      "[CV]  n_jobs=-1, n_neighbors=150, p=1, weights=uniform, score=0.01317125577561451, total=  25.9s\n",
      "[CV] n_jobs=-1, n_neighbors=150, p=1, weights=uniform ................\n",
      "[CV]  n_jobs=-1, n_neighbors=150, p=1, weights=uniform, score=0.028811177178894476, total=  25.8s\n",
      "[CV] n_jobs=-1, n_neighbors=150, p=1, weights=uniform ................\n",
      "[CV]  n_jobs=-1, n_neighbors=150, p=1, weights=uniform, score=0.004128983212799198, total=  25.9s\n",
      "[CV] n_jobs=-1, n_neighbors=150, p=1, weights=distance ...............\n",
      "[CV]  n_jobs=-1, n_neighbors=150, p=1, weights=distance, score=0.013521139250242453, total=  30.9s\n",
      "[CV] n_jobs=-1, n_neighbors=150, p=1, weights=distance ...............\n",
      "[CV]  n_jobs=-1, n_neighbors=150, p=1, weights=distance, score=0.029220613288451713, total=  30.1s\n",
      "[CV] n_jobs=-1, n_neighbors=150, p=1, weights=distance ...............\n",
      "[CV]  n_jobs=-1, n_neighbors=150, p=1, weights=distance, score=0.004718614608363758, total=  26.2s\n",
      "[CV] n_jobs=-1, n_neighbors=150, p=2, weights=uniform ................\n",
      "[CV]  n_jobs=-1, n_neighbors=150, p=2, weights=uniform, score=0.010899396356149338, total=  15.4s\n",
      "[CV] n_jobs=-1, n_neighbors=150, p=2, weights=uniform ................\n",
      "[CV]  n_jobs=-1, n_neighbors=150, p=2, weights=uniform, score=0.02452006404560292, total=  16.0s\n",
      "[CV] n_jobs=-1, n_neighbors=150, p=2, weights=uniform ................\n",
      "[CV]  n_jobs=-1, n_neighbors=150, p=2, weights=uniform, score=0.0008108665262436254, total=  16.4s\n",
      "[CV] n_jobs=-1, n_neighbors=150, p=2, weights=distance ...............\n",
      "[CV]  n_jobs=-1, n_neighbors=150, p=2, weights=distance, score=0.010948851895556944, total=  15.7s\n",
      "[CV] n_jobs=-1, n_neighbors=150, p=2, weights=distance ...............\n",
      "[CV]  n_jobs=-1, n_neighbors=150, p=2, weights=distance, score=0.024803112961576113, total=  16.7s\n",
      "[CV] n_jobs=-1, n_neighbors=150, p=2, weights=distance ...............\n",
      "[CV]  n_jobs=-1, n_neighbors=150, p=2, weights=distance, score=0.001022541497803009, total=  17.3s\n",
      "[CV] n_jobs=-1, n_neighbors=150, p=3, weights=uniform ................\n",
      "[CV]  n_jobs=-1, n_neighbors=150, p=3, weights=uniform, score=0.0066397970596923095, total= 1.8min\n",
      "[CV] n_jobs=-1, n_neighbors=150, p=3, weights=uniform ................\n",
      "[CV]  n_jobs=-1, n_neighbors=150, p=3, weights=uniform, score=0.022225154005262815, total= 1.8min\n",
      "[CV] n_jobs=-1, n_neighbors=150, p=3, weights=uniform ................\n",
      "[CV]  n_jobs=-1, n_neighbors=150, p=3, weights=uniform, score=-4.482005919692611e-05, total= 1.8min\n",
      "[CV] n_jobs=-1, n_neighbors=150, p=3, weights=distance ...............\n",
      "[CV]  n_jobs=-1, n_neighbors=150, p=3, weights=distance, score=0.007076993649145602, total= 1.8min\n",
      "[CV] n_jobs=-1, n_neighbors=150, p=3, weights=distance ...............\n",
      "[CV]  n_jobs=-1, n_neighbors=150, p=3, weights=distance, score=0.02247574404744268, total= 1.7min\n",
      "[CV] n_jobs=-1, n_neighbors=150, p=3, weights=distance ...............\n",
      "[CV]  n_jobs=-1, n_neighbors=150, p=3, weights=distance, score=0.00016741598441794014, total= 1.6min\n",
      "[CV] n_jobs=-1, n_neighbors=200, p=1, weights=uniform ................\n",
      "[CV]  n_jobs=-1, n_neighbors=200, p=1, weights=uniform, score=0.013979790961170302, total=  27.8s\n",
      "[CV] n_jobs=-1, n_neighbors=200, p=1, weights=uniform ................\n",
      "[CV]  n_jobs=-1, n_neighbors=200, p=1, weights=uniform, score=0.03010986188998832, total=  28.1s\n",
      "[CV] n_jobs=-1, n_neighbors=200, p=1, weights=uniform ................\n",
      "[CV]  n_jobs=-1, n_neighbors=200, p=1, weights=uniform, score=0.004050772172920825, total=  24.9s\n",
      "[CV] n_jobs=-1, n_neighbors=200, p=1, weights=distance ...............\n",
      "[CV]  n_jobs=-1, n_neighbors=200, p=1, weights=distance, score=0.014344500379303682, total=  27.7s\n",
      "[CV] n_jobs=-1, n_neighbors=200, p=1, weights=distance ...............\n",
      "[CV]  n_jobs=-1, n_neighbors=200, p=1, weights=distance, score=0.03049818123169601, total=  26.7s\n",
      "[CV] n_jobs=-1, n_neighbors=200, p=1, weights=distance ...............\n",
      "[CV]  n_jobs=-1, n_neighbors=200, p=1, weights=distance, score=0.004675650701674083, total=  25.2s\n",
      "[CV] n_jobs=-1, n_neighbors=200, p=2, weights=uniform ................\n",
      "[CV]  n_jobs=-1, n_neighbors=200, p=2, weights=uniform, score=0.010239341888059417, total=  17.0s\n",
      "[CV] n_jobs=-1, n_neighbors=200, p=2, weights=uniform ................\n",
      "[CV]  n_jobs=-1, n_neighbors=200, p=2, weights=uniform, score=0.024836427906000824, total=  15.9s\n",
      "[CV] n_jobs=-1, n_neighbors=200, p=2, weights=uniform ................\n",
      "[CV]  n_jobs=-1, n_neighbors=200, p=2, weights=uniform, score=0.0015245604449372063, total=  16.7s\n",
      "[CV] n_jobs=-1, n_neighbors=200, p=2, weights=distance ...............\n",
      "[CV]  n_jobs=-1, n_neighbors=200, p=2, weights=distance, score=0.010460509851250466, total=  17.5s\n",
      "[CV] n_jobs=-1, n_neighbors=200, p=2, weights=distance ...............\n",
      "[CV]  n_jobs=-1, n_neighbors=200, p=2, weights=distance, score=0.025188700845657053, total=  16.4s\n",
      "[CV] n_jobs=-1, n_neighbors=200, p=2, weights=distance ...............\n",
      "[CV]  n_jobs=-1, n_neighbors=200, p=2, weights=distance, score=0.0017828915953940205, total=  17.1s\n",
      "[CV] n_jobs=-1, n_neighbors=200, p=3, weights=uniform ................\n",
      "[CV]  n_jobs=-1, n_neighbors=200, p=3, weights=uniform, score=0.007673135943492615, total= 1.8min\n",
      "[CV] n_jobs=-1, n_neighbors=200, p=3, weights=uniform ................\n",
      "[CV]  n_jobs=-1, n_neighbors=200, p=3, weights=uniform, score=0.023606910684566995, total= 1.7min\n",
      "[CV] n_jobs=-1, n_neighbors=200, p=3, weights=uniform ................\n",
      "[CV]  n_jobs=-1, n_neighbors=200, p=3, weights=uniform, score=1.7147986945187377e-05, total= 1.8min\n",
      "[CV] n_jobs=-1, n_neighbors=200, p=3, weights=distance ...............\n",
      "[CV]  n_jobs=-1, n_neighbors=200, p=3, weights=distance, score=0.008057936022592083, total=43.8min\n",
      "[CV] n_jobs=-1, n_neighbors=200, p=3, weights=distance ...............\n",
      "[CV]  n_jobs=-1, n_neighbors=200, p=3, weights=distance, score=0.023792394543308615, total= 1.8min\n",
      "[CV] n_jobs=-1, n_neighbors=200, p=3, weights=distance ...............\n",
      "[CV]  n_jobs=-1, n_neighbors=200, p=3, weights=distance, score=0.0003159071722146356, total= 1.9min\n"
     ]
    },
    {
     "name": "stderr",
     "output_type": "stream",
     "text": [
      "[Parallel(n_jobs=1)]: Done  90 out of  90 | elapsed: 494.2min finished\n"
     ]
    }
   ],
   "source": [
    "clf, estimator, params = grid_search(df_train, df_test, knn, knn_grid_params, 'r2', TARGET, FEATURES, num_folds=3)"
   ]
  },
  {
   "cell_type": "code",
   "execution_count": 59,
   "metadata": {},
   "outputs": [],
   "source": [
    "df.to_csv('../db/preprocessed_final_df_2018-05-21.csv')"
   ]
  },
  {
   "cell_type": "code",
   "execution_count": 51,
   "metadata": {},
   "outputs": [
    {
     "name": "stdout",
     "output_type": "stream",
     "text": [
      "Starting fit\n"
     ]
    }
   ],
   "source": [
    "eval_knn, knn_predict, knn_metric = final_train(df, knn, TARGET, FEATURES)"
   ]
  },
  {
   "cell_type": "code",
   "execution_count": 64,
   "metadata": {},
   "outputs": [],
   "source": [
    "def write_pkl(obj, file_name):\n",
    "    with open(file_name, 'wb') as f:\n",
    "        pickle.dump(obj, f)"
   ]
  },
  {
   "cell_type": "code",
   "execution_count": 66,
   "metadata": {},
   "outputs": [],
   "source": [
    "import pickle\n",
    "write_pkl(knn_predict, '../model_pkls/knn.pkl')\n",
    "write_pkl(xgb_predict, '../model_pkls/xgb.pkl')\n",
    "write_pkl(lin_reg__predict, '../model_pkls/lin_reg.pkl')"
   ]
  },
  {
   "cell_type": "code",
   "execution_count": 23,
   "metadata": {},
   "outputs": [
    {
     "data": {
      "text/html": [
       "<div>\n",
       "<style scoped>\n",
       "    .dataframe tbody tr th:only-of-type {\n",
       "        vertical-align: middle;\n",
       "    }\n",
       "\n",
       "    .dataframe tbody tr th {\n",
       "        vertical-align: top;\n",
       "    }\n",
       "\n",
       "    .dataframe thead th {\n",
       "        text-align: right;\n",
       "    }\n",
       "</style>\n",
       "<table border=\"1\" class=\"dataframe\">\n",
       "  <thead>\n",
       "    <tr style=\"text-align: right;\">\n",
       "      <th></th>\n",
       "      <th>pred_sum</th>\n",
       "      <th>pred_avg</th>\n",
       "      <th>pred_dev</th>\n",
       "      <th>desired_sum</th>\n",
       "      <th>desired_avg</th>\n",
       "      <th>desired_dev</th>\n",
       "      <th>explained_variance</th>\n",
       "      <th>mean_abs_error</th>\n",
       "      <th>root_mean_sqrt_error</th>\n",
       "      <th>median_abs_error</th>\n",
       "      <th>r2_score</th>\n",
       "    </tr>\n",
       "  </thead>\n",
       "  <tbody>\n",
       "    <tr>\n",
       "      <th>0</th>\n",
       "      <td>4347.662036</td>\n",
       "      <td>2.664009</td>\n",
       "      <td>2.067048</td>\n",
       "      <td>4909.8</td>\n",
       "      <td>3.008456</td>\n",
       "      <td>4.205884</td>\n",
       "      <td>-0.181565</td>\n",
       "      <td>3.551835</td>\n",
       "      <td>4.584746</td>\n",
       "      <td>2.959482</td>\n",
       "      <td>-0.188272</td>\n",
       "    </tr>\n",
       "  </tbody>\n",
       "</table>\n",
       "</div>"
      ],
      "text/plain": [
       "      pred_sum  pred_avg  pred_dev  desired_sum  desired_avg  desired_dev  \\\n",
       "0  4347.662036  2.664009  2.067048       4909.8     3.008456     4.205884   \n",
       "\n",
       "   explained_variance  mean_abs_error  root_mean_sqrt_error  median_abs_error  \\\n",
       "0           -0.181565        3.551835              4.584746          2.959482   \n",
       "\n",
       "   r2_score  \n",
       "0 -0.188272  "
      ]
     },
     "execution_count": 23,
     "metadata": {},
     "output_type": "execute_result"
    }
   ],
   "source": [
    "get_average_metrics(eval_knn, 'target', 'prediction')"
   ]
  }
 ],
 "metadata": {
  "kernelspec": {
   "display_name": "Python 3",
   "language": "python",
   "name": "python3"
  },
  "language_info": {
   "codemirror_mode": {
    "name": "ipython",
    "version": 3
   },
   "file_extension": ".py",
   "mimetype": "text/x-python",
   "name": "python",
   "nbconvert_exporter": "python",
   "pygments_lexer": "ipython3",
   "version": "3.6.4"
  }
 },
 "nbformat": 4,
 "nbformat_minor": 2
}
